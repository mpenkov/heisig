{
 "cells": [
  {
   "cell_type": "markdown",
   "metadata": {},
   "source": [
    "# Introduction\n",
    "\n",
    "This notebook introduces three resources for working with Japanese Kanji:\n",
    "\n",
    "1. KRAD\n",
    "2. CHISE\n",
    "3. Heisig\n",
    "\n",
    "Through examples, we show how you can apply each resource to break Kanji down into subcomponents.\n",
    "\n",
    "# KRAD\n",
    "\n",
    "The [KRAD project](http://www.edrdg.org/krad/kradinf.html) is of the many useful projects of [Electronic Dictionary Research & Development Group](http://www.edrdg.org/edrdg/index.html).\n",
    "It consists of two mappings: Kanji to radical (krad) and radical to Kanji (radk).\n",
    "Since we're breaking down Kanji, we're more interested in the former.\n",
    "Let's download the file and have a peek at it."
   ]
  },
  {
   "cell_type": "code",
   "execution_count": 1,
   "metadata": {},
   "outputs": [],
   "source": [
    "# Simplest way to acquire the file is with wget, if you're in a GNU environment.\n",
    "#\n",
    "# ! wget ftp://ftp.monash.edu/pub/nihongo/kradfile.gz"
   ]
  },
  {
   "cell_type": "code",
   "execution_count": 2,
   "metadata": {},
   "outputs": [
    {
     "name": "stdout",
     "output_type": "stream",
     "text": [
      "唖 : ｜ 一 口\n",
      "娃 : 女 土\n",
      "阿 : 一 口 亅 阡\n",
      "哀 : 衣 口 亠\n",
      "愛 : 心 爪 冖 夂\n",
      "挨 : 矢 厶 扎 乞\n",
      "姶 : 一 口 女 个\n",
      "逢 : ｜ 込 二 夂\n",
      "葵 : 人 大 二 癶 艾 ノ\n",
      "茜 : 西 艾\n",
      "穐 : 禾 亀 乙 勹 田\n",
      "悪 : ｜ 一 口 心\n",
      "握 : 至 土 厶 尸 扎\n",
      "渥 : 至 汁 土 厶 尸\n",
      "旭 : 日 九\n",
      "葦 : 口 艾 韋\n",
      "芦 : 戸 艾 一 尸\n",
      "鯵 : 魚 大 田 厶 彡 杰\n",
      "梓 : 十 辛 木 立\n",
      "圧 : 土 厂\n"
     ]
    }
   ],
   "source": [
    "import gzip\n",
    "with gzip.GzipFile('kradfile.gz') as fin:\n",
    "    krad = fin.read().decode('euc-jp')\n",
    "    \n",
    "# The krad file describes the radicals present in each Kanji\n",
    "print('\\n'.join(krad.split('\\n')[100:120]))"
   ]
  },
  {
   "cell_type": "code",
   "execution_count": 3,
   "metadata": {},
   "outputs": [
    {
     "data": {
      "text/plain": [
       "['ノ', '金', '二', '矢', '大', '乞']"
      ]
     },
     "execution_count": 3,
     "metadata": {},
     "output_type": "execute_result"
    }
   ],
   "source": [
    "# It's really easy to parse...\n",
    "def parse_krad():\n",
    "    for line in krad.split('\\n'):\n",
    "        if line and line[0] == \"#\":\n",
    "            continue\n",
    "        elif ' : ' in line:\n",
    "            kanji, radicals = line.split(' : ')\n",
    "            radicals = radicals.split(' ')\n",
    "            yield kanji, radicals\n",
    "        \n",
    "krad_dict = dict(parse_krad())\n",
    "\n",
    "# So now, we can get the radicals present in any Kanji.  Cool, huh?\n",
    "krad_dict['鉄']"
   ]
  },
  {
   "cell_type": "code",
   "execution_count": 4,
   "metadata": {},
   "outputs": [],
   "source": [
    "# Problems:\n",
    "#   1. The order of the radicals appears to be quite random\n",
    "#   2. No positional information"
   ]
  },
  {
   "cell_type": "markdown",
   "metadata": {},
   "source": [
    "# CHISE (Character Information Service Environment)\n",
    "\n",
    "The [CHISE](http://www.chise.org/ids/index.html) project is similar to the krad file we looked at above.\n",
    "However, instead of decomposing a Kanji into a mere set of radicals, they decompose each Kanji into ideographs (essentially, simpler Kanji) and keep track of the _position_ of each ideograph within the Kanji, as well as the number of times that it appears.  This can be more helpful than krad."
   ]
  },
  {
   "cell_type": "code",
   "execution_count": 5,
   "metadata": {},
   "outputs": [],
   "source": [
    "# ! wget \"http://git.chise.org/gitweb/?p=chise/ids.git;a=blob_plain;f=IDS-UCS-Basic.txt\" -O IDS-UCS-Basic.txt"
   ]
  },
  {
   "cell_type": "code",
   "execution_count": 6,
   "metadata": {},
   "outputs": [
    {
     "name": "stdout",
     "output_type": "stream",
     "text": [
      ";; -*- coding: utf-8-mcs-er -*-\n",
      "U+4E00\t一\t一\n",
      "U+4E01\t丁\t丁\n",
      "U+4E02\t丂\t丂\n",
      "U+4E03\t七\t七\n",
      "U+4E04\t丄\t丄\n",
      "U+4E05\t丅\t丅\n",
      "U+4E06\t丆\t⿱一丿\n",
      "U+4E07\t万\t万\n",
      "U+4E08\t丈\t丈\n",
      "U+4E09\t三\t三\n",
      "U+4E0A\t上\t上\n",
      "U+4E0B\t下\t下\n",
      "U+4E0C\t丌\t丌\n",
      "U+4E0D\t不\t不\n",
      "U+4E0E\t与\t⿹&CDP-8BBF;一\n",
      "U+4E0F\t丏\t丏\n",
      "U+4E10\t丐\t丐\n",
      "U+4E11\t丑\t丑\n",
      "U+4E12\t丒\t⿱刃一\n"
     ]
    }
   ],
   "source": [
    "chise = open('IDS-UCS-Basic.txt', encoding='utf-8').read().rstrip()\n",
    "print('\\n'.join(chise.split('\\n')[:20]))"
   ]
  },
  {
   "cell_type": "code",
   "execution_count": 7,
   "metadata": {},
   "outputs": [
    {
     "data": {
      "text/plain": [
       "['⿰', '金', '失']"
      ]
     },
     "execution_count": 7,
     "metadata": {},
     "output_type": "execute_result"
    }
   ],
   "source": [
    "def parse_chise_ideographs(text):\n",
    "    #\n",
    "    # Each ideograph is either:\n",
    "    # \n",
    "    #     1) A single character, where a character for the ideograph actually exists\n",
    "    #     2) An escape code in the form of \"&CDP-FFFF;\", where FFFF is hex for the code.\n",
    "    #\n",
    "    while text:\n",
    "        if text.startswith('&'):\n",
    "            end = text.index(';')\n",
    "            yield text[:end + 1]\n",
    "            text = text[end + 1:]\n",
    "        else:\n",
    "            yield text[0]\n",
    "            text = text[1:]\n",
    "    \n",
    "def parse_chise():\n",
    "    for line in chise.split('\\n')[1:]:\n",
    "        code_point, kanji, ideographs = line.rstrip().split('\\t', 2)\n",
    "        yield kanji, list(parse_chise_ideographs(ideographs))\n",
    "        \n",
    "chise_dict = dict(parse_chise())\n",
    "chise_dict['鉄']"
   ]
  },
  {
   "cell_type": "code",
   "execution_count": 8,
   "metadata": {},
   "outputs": [
    {
     "data": {
      "text/plain": [
       "[('⿰', 14438),\n",
       " ('⿱', 4117),\n",
       " ('⿸', 694),\n",
       " ('⿺', 458),\n",
       " ('⿵', 218),\n",
       " ('⿳', 156),\n",
       " ('⿴', 138),\n",
       " ('⿹', 119),\n",
       " ('⿲', 51),\n",
       " ('⿷', 41),\n",
       " ('⿻', 14),\n",
       " ('⿶', 10)]"
      ]
     },
     "execution_count": 8,
     "metadata": {},
     "output_type": "execute_result"
    }
   ],
   "source": [
    "# Let's look at the available Kanji layouts.\n",
    "# Recall that the first element in the ideograph list is the layout.\n",
    "import collections\n",
    "most_common = collections.Counter(ideo[0] for ideo in chise_dict.values()).most_common(12)\n",
    "most_common"
   ]
  },
  {
   "cell_type": "code",
   "execution_count": 9,
   "metadata": {},
   "outputs": [
    {
     "data": {
      "image/png": "[encoded data removed]",
      "text/plain": [
       "<Figure size 864x288 with 1 Axes>"
      ]
     },
     "metadata": {},
     "output_type": "display_data"
    }
   ],
   "source": [
    "most_common_names = [      # For the purists, the Japanese equivalent is below:\n",
    "    'side-by-side',        # hen/dzukuri\n",
    "    'top-and-bottom',      # kanmuri/ashi\n",
    "    'top-left-wrap',       # tare\n",
    "    'bottom-left-wrap',    # nyou\n",
    "    'pi',                  # kamae (enclosing)\n",
    "    'horizontal-triple',   # ?\n",
    "    'surround',            # kamae\n",
    "    'top-right-wrap',      # kamae\n",
    "    'vertical-triple',     # ?\n",
    "    'c',                   # kamae\n",
    "    'overlap',             # ?\n",
    "    'u',                   # kamae\n",
    "]\n",
    "#\n",
    "# By far the most common layout is left-to-right, followed by top-and-bottom.\n",
    "# The remaining layouts are far less common, which is possibly why the Japanese\n",
    "# gave up trying to think up new names for them, and just called them all \"kamae\". \n",
    "#\n",
    "# Let's plot the above, just because we can\n",
    "#\n",
    "%matplotlib inline\n",
    "import matplotlib.pyplot as plt\n",
    "most_common_count = [count for (layout, count) in most_common]\n",
    "y_pos = list(reversed(range(len(most_common_count))))\n",
    "\n",
    "plt.figure(figsize=(12, 4))\n",
    "plt.barh(y_pos, most_common_count)\n",
    "plt.yticks(y_pos, most_common_names)\n",
    "plt.title('frequency of layouts in the CHISE dataset')\n",
    "plt.grid();"
   ]
  },
  {
   "cell_type": "code",
   "execution_count": 10,
   "metadata": {},
   "outputs": [
    {
     "name": "stdout",
     "output_type": "stream",
     "text": [
      "恕\n",
      "['⿱', '如', '心']\n",
      "['⿰', '女', '口']\n"
     ]
    }
   ],
   "source": [
    "# Sometimes, you have to perform multiple look-ups to break a Kanji up entirely\n",
    "print('恕')\n",
    "print(chise_dict['恕'])\n",
    "print(chise_dict['如'])"
   ]
  },
  {
   "cell_type": "code",
   "execution_count": 11,
   "metadata": {},
   "outputs": [
    {
     "data": {
      "text/plain": [
       "['⿱', '⿰', '女', '口', '心']"
      ]
     },
     "execution_count": 11,
     "metadata": {},
     "output_type": "execute_result"
    }
   ],
   "source": [
    "# Let's define a function to do that\n",
    "def chise_split(kanji):\n",
    "    try:\n",
    "        ideographs = chise_dict[kanji]\n",
    "    except KeyError:\n",
    "        return [kanji]\n",
    "    if len(ideographs) == 1:\n",
    "        return ideographs\n",
    "    result = []\n",
    "    for i in ideographs:\n",
    "        result.extend(chise_split(i))\n",
    "    return result\n",
    "\n",
    "chise_split('恕')"
   ]
  },
  {
   "cell_type": "code",
   "execution_count": 12,
   "metadata": {},
   "outputs": [],
   "source": [
    "# TODO: the above represents a traversal of a binary tree"
   ]
  },
  {
   "cell_type": "code",
   "execution_count": 13,
   "metadata": {},
   "outputs": [
    {
     "data": {
      "text/plain": [
       "['⿰', '金', '失']"
      ]
     },
     "execution_count": 13,
     "metadata": {},
     "output_type": "execute_result"
    }
   ],
   "source": [
    "# ... but we digress.  Let's get back to the actual data:\n",
    "chise_dict['鉄']"
   ]
  },
  {
   "cell_type": "markdown",
   "metadata": {},
   "source": [
    "The ideographs should be interpreted in [Polish notation](https://en.wikipedia.org/wiki/Polish_notation).\n",
    "In the example above, the first character outlines the layout of the Kanji: left-to-right.\n",
    "The following characters correspond to the left and right parts of the Kanji, respectively.\n",
    "So the above example effectively says that \n",
    "\n",
    "# 鉄\n",
    "\n",
    "can be constructed by squishing the following two characters together:\n",
    "\n",
    "## 金　失"
   ]
  },
  {
   "cell_type": "code",
   "execution_count": 14,
   "metadata": {},
   "outputs": [
    {
     "data": {
      "text/plain": [
       "{'鉄'}"
      ]
     },
     "execution_count": 14,
     "metadata": {},
     "output_type": "execute_result"
    }
   ],
   "source": [
    "# You can also flip the mapping to go the other way around\n",
    "import collections\n",
    "inv_chise_dict = collections.defaultdict(list)\n",
    "for kanji, ideographs in chise_dict.items():\n",
    "    for i in ideographs:\n",
    "        inv_chise_dict[i].append(kanji)\n",
    "\n",
    "# Find the Kanji that contains both 金 and 失\n",
    "set(inv_chise_dict['金']).intersection(set(inv_chise_dict['失']))\n",
    "\n",
    "# This is particularly helpful when you know _part_ of a Kanji, but don't know the rest of it"
   ]
  },
  {
   "cell_type": "code",
   "execution_count": 15,
   "metadata": {},
   "outputs": [
    {
     "data": {
      "text/plain": [
       "{'吢', '吣', '总', '悤'}"
      ]
     },
     "execution_count": 15,
     "metadata": {},
     "output_type": "execute_result"
    }
   ],
   "source": [
    "# The above is so useful!  Let's generalize into a function\n",
    "def chise_narrow(*parts):\n",
    "    parts = list(parts)\n",
    "    first_part = parts.pop()\n",
    "    candidates = set(inv_chise_dict[first_part])\n",
    "    while parts:\n",
    "        candidates = candidates.intersection(set(inv_chise_dict[parts.pop()]))\n",
    "    return candidates\n",
    "\n",
    "chise_narrow('心', '口')"
   ]
  },
  {
   "cell_type": "markdown",
   "metadata": {},
   "source": [
    "# James Heisig: Remembering the Kanji\n",
    "\n",
    "It is very difficult to work with Kanji without being able to conveniently name them.\n",
    "For example, conveying the above example verbally in English can be frustrating, because in general, a single Kanji rarely has one, unambiguous meaning, and cannot be expressed by a single English word.\n",
    "So, how can we refer to these things without becoming fluent in Japanese?\n",
    "\n",
    "We cheat.  \n",
    "\n",
    "We assign our own English _keywords_ to the Kanji.\n",
    "Sometimes they will actually be related to the Kanji somehow, but that won't always be the case.\n",
    "To reinforce the keywords, we make up our _personal_ story.\n",
    "The story is your own, so it can be as silly as you like.\n",
    "What matter is that _you made it, so you can remember it_.\n",
    "\n",
    "## 鉄 (iron)\n",
    "\n",
    "## 金 (metal)\n",
    "\n",
    "## 失 (to lose)\n",
    "\n",
    "So, one story could be something like:\n",
    "\n",
    "> Iron is an essential metal for the human body, so it is important not to lose too much of it.\n",
    "\n",
    "The above is known as the [Heisig Method](https://en.wikipedia.org/wiki/Remembering_the_Kanji_and_Remembering_the_Hanzi).\n",
    "\n",
    "We can now:\n",
    "\n",
    "1. Refer to Kanji using an unambiguous English keyword\n",
    "2. Actually remember the Kanji by connecting it to the keyword via a story\n",
    "\n",
    "We'll focus on the first point for now.\n",
    "Let's get the Heisig keywords.\n",
    "[@ziggr](https://twitter.com/ziggr) has conveniently put them into computer-readable form."
   ]
  },
  {
   "cell_type": "code",
   "execution_count": 16,
   "metadata": {},
   "outputs": [],
   "source": [
    "# ! wget http://ziggr.com/heisig/heisig-data.txt.gz"
   ]
  },
  {
   "cell_type": "code",
   "execution_count": 17,
   "metadata": {},
   "outputs": [
    {
     "name": "stdout",
     "output_type": "stream",
     "text": [
      "鉄 iron\n",
      "金 gold\n",
      "失 lose\n"
     ]
    }
   ],
   "source": [
    "# The Heisig method assigns keywords to Kanji, and groups Kanji into lessons of increasing difficulty.\n",
    "import io\n",
    "import csv\n",
    "\n",
    "def tweak(kanji):\n",
    "    for key, value in kanji.items():\n",
    "        if value.isdigit():\n",
    "            kanji[key] = int(value)\n",
    "    return dict(kanji)\n",
    "\n",
    "with gzip.GzipFile('heisig-data.txt.gz') as fin:\n",
    "    fin.readline()\n",
    "    reader = csv.DictReader(io.StringIO(fin.read().decode('utf-8')), delimiter=':')\n",
    "    heisig = [tweak(x) for x in reader]\n",
    "    \n",
    "heisig_dict = {k['kanji']: k for k in heisig}\n",
    "print('鉄', heisig_dict['鉄']['keyword5th-ed'])\n",
    "print('金', heisig_dict['金']['keyword5th-ed'])\n",
    "print('失', heisig_dict['失']['keyword5th-ed'])"
   ]
  }
 ],
 "metadata": {
  "kernelspec": {
   "display_name": "Python 3",
   "language": "python",
   "name": "python3"
  },
  "language_info": {
   "codemirror_mode": {
    "name": "ipython",
    "version": 3
   },
   "file_extension": ".py",
   "mimetype": "text/x-python",
   "name": "python",
   "nbconvert_exporter": "python",
   "pygments_lexer": "ipython3",
   "version": "3.6.5"
  }
 },
 "nbformat": 4,
 "nbformat_minor": 2
}
