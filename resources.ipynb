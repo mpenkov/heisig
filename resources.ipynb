{
 "cells": [
  {
   "cell_type": "code",
   "execution_count": 1,
   "metadata": {},
   "outputs": [],
   "source": [
    "%matplotlib inline\n",
    "import matplotlib.pyplot as plt"
   ]
  },
  {
   "cell_type": "markdown",
   "metadata": {},
   "source": [
    "# Introduction\n",
    "\n",
    "This notebook introduces three resources for working with Japanese Kanji:\n",
    "\n",
    "1. Heisig\n",
    "2. KRAD\n",
    "3. CHISE\n",
    "\n",
    "Through examples, we show how you can apply each resource to break Kanji down into subcomponents.\n",
    "\n",
    "If you're new to Kanji, you may want to read [this intro](https://kanjialive.com/214-traditional-kanji-radicals/)."
   ]
  },
  {
   "cell_type": "markdown",
   "metadata": {},
   "source": [
    "# James Heisig: Remembering the Kanji\n",
    "\n",
    "It is very difficult to work with Kanji without being able to conveniently name them.\n",
    "For example, conveying the above example verbally in English can be frustrating, because in general, a single Kanji rarely has one, unambiguous meaning, and cannot be expressed by a single English word.\n",
    "So, how can we refer to these things without becoming fluent in Japanese?\n",
    "\n",
    "We cheat.  \n",
    "\n",
    "We assign our own English _keywords_ to the Kanji.\n",
    "Sometimes they will actually be related to the Kanji somehow, but that won't always be the case.\n",
    "To reinforce the keywords, we make up our _personal_ story.\n",
    "The story is your own, so it can be as silly as you like.\n",
    "What matter is that _you made it, so you can remember it_.\n",
    "\n",
    "## 鉄 iron\n",
    "\n",
    "## 金 metal\n",
    "\n",
    "## 失 to lose\n",
    "\n",
    "So, one story could be something like:\n",
    "\n",
    "> Iron is an essential metal for the human body, so it is important not to lose too much of it.\n",
    "\n",
    "The above is known as the [Heisig Method](https://en.wikipedia.org/wiki/Remembering_the_Kanji_and_Remembering_the_Hanzi).\n",
    "\n",
    "We can now:\n",
    "\n",
    "1. Refer to Kanji using an unambiguous English keyword\n",
    "2. Actually remember the Kanji by connecting it to the keyword via a story\n",
    "\n",
    "We'll focus on the first point for now.\n",
    "Let's get the Heisig keywords.\n",
    "[@ziggr](https://twitter.com/ziggr) has conveniently put them into computer-readable form."
   ]
  },
  {
   "cell_type": "code",
   "execution_count": 2,
   "metadata": {},
   "outputs": [],
   "source": [
    "# ! wget http://ziggr.com/heisig/heisig-data.txt.gz"
   ]
  },
  {
   "cell_type": "code",
   "execution_count": 3,
   "metadata": {},
   "outputs": [
    {
     "name": "stdout",
     "output_type": "stream",
     "text": [
      "{'#heisignumber': 846,\n",
      " 'indexordinal': 1626,\n",
      " 'kanji': '鉄',\n",
      " 'keyword': 'iron',\n",
      " 'lessonnumber': 25,\n",
      " 'strokecount': 13}\n"
     ]
    }
   ],
   "source": [
    "# The Heisig method assigns keywords to Kanji, and groups Kanji into lessons of increasing difficulty.\n",
    "import csv\n",
    "import gzip\n",
    "import io\n",
    "import pprint\n",
    "\n",
    "def tweak(kanji):\n",
    "    kanji.pop('keyword3rd-ed')\n",
    "    kanji.pop('keyword4th-ed')\n",
    "    kanji['keyword'] = kanji.pop('keyword5th-ed')\n",
    "    for key, value in kanji.items():\n",
    "        if value.isdigit():\n",
    "            kanji[key] = int(value)\n",
    "    return dict(kanji)\n",
    "\n",
    "with gzip.GzipFile('heisig-data.txt.gz') as fin:\n",
    "    fin.readline()\n",
    "    reader = csv.DictReader(io.StringIO(fin.read().decode('utf-8')), delimiter=':')\n",
    "    heisig = [tweak(x) for x in reader]\n",
    "    \n",
    "heisig_dict = {k['kanji']: k for k in heisig}\n",
    "pprint.pprint(heisig_dict['鉄'])"
   ]
  },
  {
   "cell_type": "code",
   "execution_count": 4,
   "metadata": {},
   "outputs": [],
   "source": [
    "def h1(*args):\n",
    "    import IPython.core.display\n",
    "    html = '<h1>' + ' '.join(args) + '</h1>'\n",
    "    IPython.core.display.display(IPython.core.display.HTML(html))\n",
    "    \n",
    "# h1('hello world')"
   ]
  },
  {
   "cell_type": "code",
   "execution_count": 5,
   "metadata": {},
   "outputs": [
    {
     "data": {
      "text/html": [
       "<h1>鉄 iron</h1>"
      ],
      "text/plain": [
       "<IPython.core.display.HTML object>"
      ]
     },
     "metadata": {},
     "output_type": "display_data"
    },
    {
     "data": {
      "text/html": [
       "<h1>金 gold</h1>"
      ],
      "text/plain": [
       "<IPython.core.display.HTML object>"
      ]
     },
     "metadata": {},
     "output_type": "display_data"
    },
    {
     "data": {
      "text/html": [
       "<h1>失 lose</h1>"
      ],
      "text/plain": [
       "<IPython.core.display.HTML object>"
      ]
     },
     "metadata": {},
     "output_type": "display_data"
    }
   ],
   "source": [
    "h1('鉄', heisig_dict['鉄']['keyword'])\n",
    "h1('金', heisig_dict['金']['keyword'])\n",
    "h1('失', heisig_dict['失']['keyword'])"
   ]
  },
  {
   "cell_type": "code",
   "execution_count": 6,
   "metadata": {},
   "outputs": [
    {
     "data": {
      "text/plain": [
       "2042"
      ]
     },
     "execution_count": 6,
     "metadata": {},
     "output_type": "execute_result"
    }
   ],
   "source": [
    "# One catch: Heisig only covers a subset of the Kanji.\n",
    "# These are the most commonly used Kanji, so it's a _good_ subset.\n",
    "len(heisig)"
   ]
  },
  {
   "cell_type": "code",
   "execution_count": 7,
   "metadata": {},
   "outputs": [
    {
     "data": {
      "text/html": [
       "<h1>傑 催 債 傷 傾 働 僧 勢 勧 嗣</h1>"
      ],
      "text/plain": [
       "<IPython.core.display.HTML object>"
      ]
     },
     "metadata": {},
     "output_type": "display_data"
    }
   ],
   "source": [
    "def from_stroke_count(stroke_count):\n",
    "    \"\"\"Return the list of Kanji that have the specified stroke count.\"\"\"\n",
    "    for k in heisig:\n",
    "        if k['strokecount'] == stroke_count:\n",
    "            yield k['kanji']\n",
    "h1(*list(from_stroke_count(13))[:10])"
   ]
  },
  {
   "cell_type": "code",
   "execution_count": 8,
   "metadata": {},
   "outputs": [
    {
     "data": {
      "image/png": "[encoded data removed]",
      "text/plain": [
       "<Figure size 864x288 with 1 Axes>"
      ]
     },
     "metadata": {},
     "output_type": "display_data"
    }
   ],
   "source": [
    "def plot_hist(counts):\n",
    "    bins = list(range(1, max(counts) + 1))\n",
    "    plt.figure(figsize=(12, 4))\n",
    "    plt.hist(counts, bins=bins)\n",
    "    plt.xticks(bins)\n",
    "    plt.grid();\n",
    "    \n",
    "plot_hist([k['strokecount'] for k in heisig])\n",
    "plt.title('Histogram of brush stroke count across Kanji in the Heisig dataset')\n",
    "plt.ylabel('Number of Kanji')\n",
    "plt.xlabel('Brush stroke count');"
   ]
  },
  {
   "cell_type": "code",
   "execution_count": 9,
   "metadata": {},
   "outputs": [
    {
     "data": {
      "image/png": "[encoded data removed]",
      "text/plain": [
       "<Figure size 864x288 with 1 Axes>"
      ]
     },
     "metadata": {},
     "output_type": "display_data"
    }
   ],
   "source": [
    "import collections\n",
    "\n",
    "kanji_per_lesson = collections.defaultdict(int)\n",
    "for kanji in heisig:\n",
    "    kanji_per_lesson[int(kanji['lessonnumber'])] += 1\n",
    "x = sorted(kanji_per_lesson.keys())\n",
    "y = [kanji_per_lesson[xx] for xx in x]\n",
    "plt.figure(figsize=(12, 4))\n",
    "plt.bar(x, y)\n",
    "plt.grid()\n",
    "plt.xlabel('Lesson number')\n",
    "plt.ylabel('Number of Kanji')\n",
    "plt.title('Number of Kanji per Lesson');"
   ]
  },
  {
   "cell_type": "code",
   "execution_count": 10,
   "metadata": {},
   "outputs": [
    {
     "data": {
      "text/html": [
       "<h1>乃又丈及才互友反手支爪双允去史奴広打払台弁充刑吏吸在存扱会至坂妥我戒批技抄投抗抜更材没返乳到叔受始怪抱抹拐拍拓拘招担拠拡板枝治法肢育茎型室怒怠括拾持指挑看研胎唆将桑流浮致財隻寂捨授掛採接推描掲械殻淑窓菜設販提揚搭揮硫硬軽雄奨愛損携棄督義鉱摘銃鼻摩撤撃操獲犠議護</h1>"
      ],
      "text/plain": [
       "<IPython.core.display.HTML object>"
      ]
     },
     "metadata": {},
     "output_type": "display_data"
    }
   ],
   "source": [
    "heisig_lesson = {\n",
    "    lesson: ''.join([k['kanji'] for k in heisig if int(k['lessonnumber']) == lesson])\n",
    "    for lesson in kanji_per_lesson\n",
    "}\n",
    "h1(heisig_lesson[23])"
   ]
  },
  {
   "cell_type": "code",
   "execution_count": 11,
   "metadata": {},
   "outputs": [
    {
     "data": {
      "text/html": [
       "<h1>rising sun</h1>"
      ],
      "text/plain": [
       "<IPython.core.display.HTML object>"
      ]
     },
     "metadata": {},
     "output_type": "display_data"
    }
   ],
   "source": [
    "# Our memory is not perfect, so it's convenient to go between keywords and Kanji quickly\n",
    "to_keyword = {h['kanji']: h['keyword'] for h in heisig_dict.values()}\n",
    "h1(to_keyword['旭'])"
   ]
  },
  {
   "cell_type": "code",
   "execution_count": 12,
   "metadata": {},
   "outputs": [
    {
     "data": {
      "text/html": [
       "<h1>旭</h1>"
      ],
      "text/plain": [
       "<IPython.core.display.HTML object>"
      ]
     },
     "metadata": {},
     "output_type": "display_data"
    }
   ],
   "source": [
    "from_keyword = {h['keyword']: h['kanji'] for h in heisig_dict.values()}\n",
    "h1(from_keyword['rising sun'])"
   ]
  },
  {
   "cell_type": "code",
   "execution_count": 13,
   "metadata": {},
   "outputs": [],
   "source": [
    "# Short names for convenience\n",
    "fkw = from_keyword\n",
    "tkw = to_keyword"
   ]
  },
  {
   "cell_type": "markdown",
   "metadata": {},
   "source": [
    "# KRAD\n",
    "\n",
    "The [KRAD project](http://www.edrdg.org/krad/kradinf.html) is of the many useful projects of [Electronic Dictionary Research & Development Group](http://www.edrdg.org/edrdg/index.html).\n",
    "It consists of two mappings: Kanji to radical (krad) and radical to Kanji (radk).\n",
    "Since we're breaking down Kanji, we're more interested in the former.\n",
    "Let's download the file and have a peek at it.\n",
    "\n",
    "(Remember: a _radical_ is just a fancy word for \"part of a Kanji\")"
   ]
  },
  {
   "cell_type": "code",
   "execution_count": 14,
   "metadata": {},
   "outputs": [],
   "source": [
    "# Simplest way to acquire the file is with wget, if you're in a GNU environment.\n",
    "#\n",
    "# ! wget ftp://ftp.monash.edu/pub/nihongo/kradfile.gz"
   ]
  },
  {
   "cell_type": "code",
   "execution_count": 15,
   "metadata": {},
   "outputs": [
    {
     "data": {
      "text/html": [
       "<h1>唖 : ｜ 一 口</h1>"
      ],
      "text/plain": [
       "<IPython.core.display.HTML object>"
      ]
     },
     "metadata": {},
     "output_type": "display_data"
    },
    {
     "data": {
      "text/html": [
       "<h1>娃 : 女 土</h1>"
      ],
      "text/plain": [
       "<IPython.core.display.HTML object>"
      ]
     },
     "metadata": {},
     "output_type": "display_data"
    },
    {
     "data": {
      "text/html": [
       "<h1>阿 : 一 口 亅 阡</h1>"
      ],
      "text/plain": [
       "<IPython.core.display.HTML object>"
      ]
     },
     "metadata": {},
     "output_type": "display_data"
    },
    {
     "data": {
      "text/html": [
       "<h1>哀 : 衣 口 亠</h1>"
      ],
      "text/plain": [
       "<IPython.core.display.HTML object>"
      ]
     },
     "metadata": {},
     "output_type": "display_data"
    },
    {
     "data": {
      "text/html": [
       "<h1>愛 : 心 爪 冖 夂</h1>"
      ],
      "text/plain": [
       "<IPython.core.display.HTML object>"
      ]
     },
     "metadata": {},
     "output_type": "display_data"
    },
    {
     "data": {
      "text/html": [
       "<h1>挨 : 矢 厶 扎 乞</h1>"
      ],
      "text/plain": [
       "<IPython.core.display.HTML object>"
      ]
     },
     "metadata": {},
     "output_type": "display_data"
    },
    {
     "data": {
      "text/html": [
       "<h1>姶 : 一 口 女 个</h1>"
      ],
      "text/plain": [
       "<IPython.core.display.HTML object>"
      ]
     },
     "metadata": {},
     "output_type": "display_data"
    },
    {
     "data": {
      "text/html": [
       "<h1>逢 : ｜ 込 二 夂</h1>"
      ],
      "text/plain": [
       "<IPython.core.display.HTML object>"
      ]
     },
     "metadata": {},
     "output_type": "display_data"
    },
    {
     "data": {
      "text/html": [
       "<h1>葵 : 人 大 二 癶 艾 ノ</h1>"
      ],
      "text/plain": [
       "<IPython.core.display.HTML object>"
      ]
     },
     "metadata": {},
     "output_type": "display_data"
    },
    {
     "data": {
      "text/html": [
       "<h1>茜 : 西 艾</h1>"
      ],
      "text/plain": [
       "<IPython.core.display.HTML object>"
      ]
     },
     "metadata": {},
     "output_type": "display_data"
    },
    {
     "data": {
      "text/html": [
       "<h1>穐 : 禾 亀 乙 勹 田</h1>"
      ],
      "text/plain": [
       "<IPython.core.display.HTML object>"
      ]
     },
     "metadata": {},
     "output_type": "display_data"
    },
    {
     "data": {
      "text/html": [
       "<h1>悪 : ｜ 一 口 心</h1>"
      ],
      "text/plain": [
       "<IPython.core.display.HTML object>"
      ]
     },
     "metadata": {},
     "output_type": "display_data"
    },
    {
     "data": {
      "text/html": [
       "<h1>握 : 至 土 厶 尸 扎</h1>"
      ],
      "text/plain": [
       "<IPython.core.display.HTML object>"
      ]
     },
     "metadata": {},
     "output_type": "display_data"
    },
    {
     "data": {
      "text/html": [
       "<h1>渥 : 至 汁 土 厶 尸</h1>"
      ],
      "text/plain": [
       "<IPython.core.display.HTML object>"
      ]
     },
     "metadata": {},
     "output_type": "display_data"
    },
    {
     "data": {
      "text/html": [
       "<h1>旭 : 日 九</h1>"
      ],
      "text/plain": [
       "<IPython.core.display.HTML object>"
      ]
     },
     "metadata": {},
     "output_type": "display_data"
    },
    {
     "data": {
      "text/html": [
       "<h1>葦 : 口 艾 韋</h1>"
      ],
      "text/plain": [
       "<IPython.core.display.HTML object>"
      ]
     },
     "metadata": {},
     "output_type": "display_data"
    },
    {
     "data": {
      "text/html": [
       "<h1>芦 : 戸 艾 一 尸</h1>"
      ],
      "text/plain": [
       "<IPython.core.display.HTML object>"
      ]
     },
     "metadata": {},
     "output_type": "display_data"
    },
    {
     "data": {
      "text/html": [
       "<h1>鯵 : 魚 大 田 厶 彡 杰</h1>"
      ],
      "text/plain": [
       "<IPython.core.display.HTML object>"
      ]
     },
     "metadata": {},
     "output_type": "display_data"
    },
    {
     "data": {
      "text/html": [
       "<h1>梓 : 十 辛 木 立</h1>"
      ],
      "text/plain": [
       "<IPython.core.display.HTML object>"
      ]
     },
     "metadata": {},
     "output_type": "display_data"
    },
    {
     "data": {
      "text/html": [
       "<h1>圧 : 土 厂</h1>"
      ],
      "text/plain": [
       "<IPython.core.display.HTML object>"
      ]
     },
     "metadata": {},
     "output_type": "display_data"
    }
   ],
   "source": [
    "import gzip\n",
    "with gzip.GzipFile('kradfile.gz') as fin:\n",
    "    krad = fin.read().decode('euc-jp')\n",
    "    \n",
    "# The krad file describes the radicals present in each Kanji\n",
    "for line in krad.split('\\n')[100:120]:\n",
    "    h1(line)"
   ]
  },
  {
   "cell_type": "code",
   "execution_count": 16,
   "metadata": {},
   "outputs": [
    {
     "data": {
      "text/html": [
       "<h1>ノ 金 二 矢 大 乞</h1>"
      ],
      "text/plain": [
       "<IPython.core.display.HTML object>"
      ]
     },
     "metadata": {},
     "output_type": "display_data"
    }
   ],
   "source": [
    "# It's really easy to parse...\n",
    "def parse_krad():\n",
    "    for line in krad.split('\\n'):\n",
    "        if line and line[0] == \"#\":\n",
    "            continue\n",
    "        elif ' : ' in line:\n",
    "            kanji, radicals = line.split(' : ')\n",
    "            radicals = radicals.split(' ')\n",
    "            yield kanji, radicals\n",
    "        \n",
    "krad_dict = dict(parse_krad())\n",
    "\n",
    "# So now, we can get the radicals present in any Kanji.  Cool, huh?\n",
    "h1(*krad_dict['鉄'])"
   ]
  },
  {
   "cell_type": "code",
   "execution_count": 17,
   "metadata": {},
   "outputs": [
    {
     "data": {
      "text/plain": [
       "[('口', 1340),\n",
       " ('一', 991),\n",
       " ('｜', 646),\n",
       " ('ノ', 626),\n",
       " ('木', 601),\n",
       " ('日', 593),\n",
       " ('ハ', 542),\n",
       " ('二', 476),\n",
       " ('土', 463),\n",
       " ('田', 461)]"
      ]
     },
     "execution_count": 17,
     "metadata": {},
     "output_type": "execute_result"
    }
   ],
   "source": [
    "# What are the most common radicals?\n",
    "import collections\n",
    "radicals = collections.Counter()\n",
    "for val in krad_dict.values():\n",
    "    radicals.update(val)\n",
    "\n",
    "radicals.most_common(10)"
   ]
  },
  {
   "cell_type": "code",
   "execution_count": 18,
   "metadata": {},
   "outputs": [
    {
     "data": {
      "text/plain": [
       "6355"
      ]
     },
     "execution_count": 18,
     "metadata": {},
     "output_type": "execute_result"
    }
   ],
   "source": [
    "# How many unique Kanji?\n",
    "len(krad_dict)"
   ]
  },
  {
   "cell_type": "code",
   "execution_count": 19,
   "metadata": {},
   "outputs": [
    {
     "data": {
      "text/plain": [
       "254"
      ]
     },
     "execution_count": 19,
     "metadata": {},
     "output_type": "execute_result"
    }
   ],
   "source": [
    "# How many unique radicals are there?\n",
    "len(radicals)"
   ]
  },
  {
   "cell_type": "code",
   "execution_count": 20,
   "metadata": {},
   "outputs": [
    {
     "data": {
      "text/html": [
       "<h1>parent_child ('月', '朝') {} --> 1</h1>"
      ],
      "text/plain": [
       "<IPython.core.display.HTML object>"
      ]
     },
     "metadata": {},
     "output_type": "display_data"
    },
    {
     "data": {
      "text/html": [
       "<h1>parent_child ('扎', '挑') {} --> 1</h1>"
      ],
      "text/plain": [
       "<IPython.core.display.HTML object>"
      ]
     },
     "metadata": {},
     "output_type": "display_data"
    },
    {
     "data": {
      "text/html": [
       "<h1>parent_child ('忙', '憎') {} --> 1</h1>"
      ],
      "text/plain": [
       "<IPython.core.display.HTML object>"
      ]
     },
     "metadata": {},
     "output_type": "display_data"
    },
    {
     "data": {
      "text/plain": [
       "1"
      ]
     },
     "execution_count": 20,
     "metadata": {},
     "output_type": "execute_result"
    }
   ],
   "source": [
    "def demo(function):\n",
    "    def inner(*args, **kwargs):\n",
    "        retval = function(*args, **kwargs)\n",
    "        h1('%s %r %r --> %r' % (function.__name__, args, kwargs, retval))\n",
    "        return retval\n",
    "    return inner\n",
    "\n",
    "\n",
    "def find_common_radicals(k1, k2):\n",
    "    \"\"\"Return the common radicals between the two Kanji.\"\"\"\n",
    "    rad1 = set(krad_dict[k1])\n",
    "    rad2 = set(krad_dict[k2])\n",
    "    return rad1.intersection(rad2)\n",
    "\n",
    "\n",
    "def parent_child(k1, k2):\n",
    "    \"\"\"Return 1 if k1 is a parent of k2, or the other way around.\n",
    "    \n",
    "    A parent Kanji contains all the radicals of a child Kanji, plus more.\"\"\"\n",
    "    rad1 = set(krad_dict.get(k1, [k1]))\n",
    "    rad2 = set(krad_dict.get(k2, [k2]))\n",
    "    common = rad1.intersection(rad2)\n",
    "    # print(rad1, rad2, common)\n",
    "    if common == {k1} or common == {k2}:\n",
    "        return 1\n",
    "    return 1 if (common == rad1 or common == rad2) else 0\n",
    "\n",
    "demo(parent_child)('月', '朝')\n",
    "demo(parent_child)('扎', fkw['challenge'])\n",
    "demo(parent_child)(fkw['busy'], fkw['hate'])"
   ]
  },
  {
   "cell_type": "code",
   "execution_count": 21,
   "metadata": {},
   "outputs": [
    {
     "data": {
      "text/html": [
       "<h1>亠 小 口</h1>"
      ],
      "text/plain": [
       "<IPython.core.display.HTML object>"
      ]
     },
     "metadata": {},
     "output_type": "display_data"
    }
   ],
   "source": [
    "# Can we measure similarity between two Kanji?\n",
    "h1(*find_common_radicals('涼', '景'))"
   ]
  },
  {
   "cell_type": "code",
   "execution_count": 22,
   "metadata": {},
   "outputs": [
    {
     "data": {
      "text/html": [
       "<h1>難</h1>"
      ],
      "text/plain": [
       "<IPython.core.display.HTML object>"
      ]
     },
     "metadata": {},
     "output_type": "display_data"
    },
    {
     "data": {
      "text/html": [
       "<h1>灘 漢 歎 嘆 喫 儺</h1>"
      ],
      "text/plain": [
       "<IPython.core.display.HTML object>"
      ]
     },
     "metadata": {},
     "output_type": "display_data"
    }
   ],
   "source": [
    "def find_similar_kanji(kanji, threshold=1):\n",
    "    sim = sorted(\n",
    "        ((len(find_common_radicals(kanji, k)), k) for k in krad_dict),\n",
    "        reverse=True\n",
    "    )\n",
    "    return [k for (s, k) in sim if s > threshold and k != kanji]\n",
    "\n",
    "h1('難')\n",
    "h1(*find_similar_kanji('難', threshold=3))"
   ]
  },
  {
   "cell_type": "code",
   "execution_count": 23,
   "metadata": {},
   "outputs": [
    {
     "data": {
      "image/png": "[encoded data removed]",
      "text/plain": [
       "<Figure size 864x288 with 1 Axes>"
      ]
     },
     "metadata": {},
     "output_type": "display_data"
    }
   ],
   "source": [
    "plot_hist([len(radicals) for (kanji, radicals) in krad_dict.items()])\n",
    "plt.title('Histogram of number of radicals across the KRAD dataset')\n",
    "plt.ylabel('Number of Kanji')\n",
    "plt.xlabel('Number of radicals');"
   ]
  },
  {
   "cell_type": "code",
   "execution_count": 24,
   "metadata": {},
   "outputs": [
    {
     "data": {
      "text/html": [
       "<h1>可   司   叮   哥</h1>"
      ],
      "text/plain": [
       "<IPython.core.display.HTML object>"
      ]
     },
     "metadata": {},
     "output_type": "display_data"
    },
    {
     "data": {
      "text/html": [
       "<h1>回   口   囗   圖</h1>"
      ],
      "text/plain": [
       "<IPython.core.display.HTML object>"
      ]
     },
     "metadata": {},
     "output_type": "display_data"
    },
    {
     "data": {
      "text/html": [
       "<h1>含   吟   合   哈</h1>"
      ],
      "text/plain": [
       "<IPython.core.display.HTML object>"
      ]
     },
     "metadata": {},
     "output_type": "display_data"
    },
    {
     "data": {
      "text/html": [
       "<h1>戎   戈   戉   戔</h1>"
      ],
      "text/plain": [
       "<IPython.core.display.HTML object>"
      ]
     },
     "metadata": {},
     "output_type": "display_data"
    },
    {
     "data": {
      "text/html": [
       "<h1>椙   杲   杳   橸</h1>"
      ],
      "text/plain": [
       "<IPython.core.display.HTML object>"
      ]
     },
     "metadata": {},
     "output_type": "display_data"
    },
    {
     "data": {
      "text/html": [
       "<h1>丑   垂   万</h1>"
      ],
      "text/plain": [
       "<IPython.core.display.HTML object>"
      ]
     },
     "metadata": {},
     "output_type": "display_data"
    },
    {
     "data": {
      "text/html": [
       "<h1>押   抽   抻</h1>"
      ],
      "text/plain": [
       "<IPython.core.display.HTML object>"
      ]
     },
     "metadata": {},
     "output_type": "display_data"
    },
    {
     "data": {
      "text/html": [
       "<h1>脅   肋   脇</h1>"
      ],
      "text/plain": [
       "<IPython.core.display.HTML object>"
      ]
     },
     "metadata": {},
     "output_type": "display_data"
    },
    {
     "data": {
      "text/html": [
       "<h1>桂   杜   埜</h1>"
      ],
      "text/plain": [
       "<IPython.core.display.HTML object>"
      ]
     },
     "metadata": {},
     "output_type": "display_data"
    },
    {
     "data": {
      "text/html": [
       "<h1>己   巳   已</h1>"
      ],
      "text/plain": [
       "<IPython.core.display.HTML object>"
      ]
     },
     "metadata": {},
     "output_type": "display_data"
    },
    {
     "data": {
      "text/html": [
       "<h1>呉   只   叭</h1>"
      ],
      "text/plain": [
       "<IPython.core.display.HTML object>"
      ]
     },
     "metadata": {},
     "output_type": "display_data"
    },
    {
     "data": {
      "text/html": [
       "<h1>甲   申   由</h1>"
      ],
      "text/plain": [
       "<IPython.core.display.HTML object>"
      ]
     },
     "metadata": {},
     "output_type": "display_data"
    },
    {
     "data": {
      "text/html": [
       "<h1>細   累   縲</h1>"
      ],
      "text/plain": [
       "<IPython.core.display.HTML object>"
      ]
     },
     "metadata": {},
     "output_type": "display_data"
    },
    {
     "data": {
      "text/html": [
       "<h1>詞   訶   謌</h1>"
      ],
      "text/plain": [
       "<IPython.core.display.HTML object>"
      ]
     },
     "metadata": {},
     "output_type": "display_data"
    },
    {
     "data": {
      "text/html": [
       "<h1>讐   誰   讎</h1>"
      ],
      "text/plain": [
       "<IPython.core.display.HTML object>"
      ]
     },
     "metadata": {},
     "output_type": "display_data"
    },
    {
     "data": {
      "text/html": [
       "<h1>昌   晶   日</h1>"
      ],
      "text/plain": [
       "<IPython.core.display.HTML object>"
      ]
     },
     "metadata": {},
     "output_type": "display_data"
    },
    {
     "data": {
      "text/html": [
       "<h1>森   木   林</h1>"
      ],
      "text/plain": [
       "<IPython.core.display.HTML object>"
      ]
     },
     "metadata": {},
     "output_type": "display_data"
    },
    {
     "data": {
      "text/html": [
       "<h1>娚   嬲   嫐</h1>"
      ],
      "text/plain": [
       "<IPython.core.display.HTML object>"
      ]
     },
     "metadata": {},
     "output_type": "display_data"
    },
    {
     "data": {
      "text/html": [
       "<h1>亜   唖</h1>"
      ],
      "text/plain": [
       "<IPython.core.display.HTML object>"
      ]
     },
     "metadata": {},
     "output_type": "display_data"
    },
    {
     "data": {
      "text/html": [
       "<h1>穐   龝</h1>"
      ],
      "text/plain": [
       "<IPython.core.display.HTML object>"
      ]
     },
     "metadata": {},
     "output_type": "display_data"
    }
   ],
   "source": [
    "# Are there Kanji that have the same radicals, but in different arrangements?\n",
    "# Looks like there's quite a few...\n",
    "by_radicals = collections.defaultdict(list)\n",
    "for kanji, radicals in krad_dict.items():\n",
    "    key = tuple(sorted(set(radicals)))\n",
    "    by_radicals[key].append(kanji)\n",
    "\n",
    "for rad in sorted([\" \".join(x) for x in by_radicals.values()], \n",
    "                  key=lambda item: len(item), reverse=True)[:20]:\n",
    "    h1(*rad)"
   ]
  },
  {
   "cell_type": "code",
   "execution_count": 25,
   "metadata": {},
   "outputs": [],
   "source": [
    "# Problems:\n",
    "#   1. The order of the radicals appears to be quite random\n",
    "#   2. No positional information"
   ]
  },
  {
   "cell_type": "markdown",
   "metadata": {},
   "source": [
    "# KANJIDIC\n",
    "\n",
    "A dictionary that contains many useful properties for each Kanji."
   ]
  },
  {
   "cell_type": "code",
   "execution_count": 26,
   "metadata": {},
   "outputs": [],
   "source": [
    "# KANJIDIC\n",
    "\n",
    "# ! wget http://ftp.monash.edu.au/pub/nihongo/kanjidic.gz"
   ]
  },
  {
   "cell_type": "code",
   "execution_count": 27,
   "metadata": {},
   "outputs": [
    {
     "data": {
      "text/plain": [
       "{'B': '173',\n",
       " 'G': '1',\n",
       " 'S': '8',\n",
       " 'F': '950',\n",
       " 'N': '5042',\n",
       " 'H': '3561',\n",
       " 'L': '422',\n",
       " 'K': '655',\n",
       " 'MN': '42210',\n",
       " 'MP': '12.0001',\n",
       " 'I': '8d0.1',\n",
       " 'P': '4-8-1',\n",
       " 'Q': '1022.7',\n",
       " 'meanings': ['rain'],\n",
       " 'kanji': '雨',\n",
       " 'jis_code': 'U96e8'}"
      ]
     },
     "execution_count": 27,
     "metadata": {},
     "output_type": "execute_result"
    }
   ],
   "source": [
    "KANJIDIC_FIELDS = ['MN', 'MP'] + list(\"UNBCSGHFPKLIQ\")\n",
    "\"\"\"\n",
    "[U] the Unicode/ISO 10646 code of the kanji in hexadecimal;\n",
    "[N] the index in Nelson (Modern Reader's Japanese-English Character Dictionary)\n",
    "[B] the classification radical number of the kanji (as in Nelson);\n",
    "[C] the \"classical\" radical number (where this differs from the one used in Nelson);\n",
    "[S] the total stroke-count of the kanji;\n",
    "[G] the \"grade\" of the kanji, In this case, G2 means it is a Jouyou (general use) kanji taught in the second year of elementary schooling in Japan;\n",
    "[H] the index in Halpern (New Japanese-English Character Dictionary);\n",
    "[F] the rank-order frequency of occurrence of the kanji in Japanese;\n",
    "[P] the \"SKIP\" coding of the kanji, as used in Halpern;\n",
    "[K] the index in the Gakken Kanji Dictionary (A New Dictionary of Kanji Usage);\n",
    "[L] the index in Heisig (Remembering The Kanji);\n",
    "[I] the index in the Spahn & Hadamitsky dictionary.\n",
    "[Q] the Four-Corner code;\n",
    "[MN,MP] the index and page number in the 13-volume Morohashi \"DaiKanWaJiten\";\n",
    "[E] the index in Henshall (A Guide To Remembering Japanese Characters);\n",
    "[Y] the PinYin (Chinese) pronunciation(s) of the kanji;\n",
    "\"\"\"\n",
    "def parse_kanjidic_parts(parts):\n",
    "    readings = []\n",
    "    meanings = []\n",
    "    for part in parts:\n",
    "        if part[0] == '{' and part[-1] == '}':\n",
    "            meanings.append(part[1:-1])\n",
    "            break\n",
    "        for field in KANJIDIC_FIELDS:\n",
    "            if part.startswith(field):\n",
    "                yield field, part[len(field):]\n",
    "                break\n",
    "        else:\n",
    "            readings.append(part)\n",
    "    yield 'meanings', meanings\n",
    "    # Contains stuff other than the readings now\n",
    "    # yield 'readings', readings\n",
    "\n",
    "def parse_kanjidic():\n",
    "    with gzip.GzipFile('kanjidic.gz') as fin:\n",
    "        next(fin)\n",
    "        for line in fin:\n",
    "            # http://www.edrdg.org/kanjidic/kanjidic.html\n",
    "            parts = line.decode('euc-jp').split(' ')\n",
    "            kanji = parts.pop(0)\n",
    "            jis_code = parts.pop(1)\n",
    "            info = dict(parse_kanjidic_parts(parts))\n",
    "            info.update(kanji=kanji, jis_code=jis_code)\n",
    "            yield info\n",
    "            \n",
    "kanjidic = {x['kanji']: x for x in parse_kanjidic()}\n",
    "kanjidic[fkw['rain']]"
   ]
  },
  {
   "cell_type": "code",
   "execution_count": 28,
   "metadata": {},
   "outputs": [
    {
     "data": {
      "text/plain": [
       "216"
      ]
     },
     "execution_count": 28,
     "metadata": {},
     "output_type": "execute_result"
    }
   ],
   "source": [
    "len(collections.Counter([k['B'] for k in kanjidic.values()]))"
   ]
  },
  {
   "cell_type": "code",
   "execution_count": 35,
   "metadata": {},
   "outputs": [
    {
     "data": {
      "image/png": "[encoded data removed]",
      "text/plain": [
       "<Figure size 864x288 with 1 Axes>"
      ]
     },
     "metadata": {},
     "output_type": "display_data"
    }
   ],
   "source": [
    "def kanjidic_strokes():\n",
    "    for k in kanjidic.values():\n",
    "        try:\n",
    "            yield int(k['S'])\n",
    "        except ValueError:\n",
    "            pass\n",
    "        \n",
    "plot_hist(list(kanjidic_strokes()))\n",
    "plt.title('Histogram of brush stroke count across Kanji in the Heisig dataset')\n",
    "plt.ylabel('Number of Kanji')\n",
    "plt.xlabel('Brush stroke count');"
   ]
  },
  {
   "cell_type": "code",
   "execution_count": 56,
   "metadata": {},
   "outputs": [
    {
     "data": {
      "text/html": [
       "<h1>纜　鑾　驤　顳　钁　鸚　鱸</h1>"
      ],
      "text/plain": [
       "<IPython.core.display.HTML object>"
      ]
     },
     "metadata": {},
     "output_type": "display_data"
    }
   ],
   "source": [
    "def from_strokecount(*counts):\n",
    "    for k in kanjidic.values():\n",
    "        try:\n",
    "            sc = int(k['S'])\n",
    "        except ValueError:\n",
    "            pass\n",
    "        else:\n",
    "            if sc in counts:\n",
    "                yield k\n",
    "                \n",
    "import random\n",
    "h1(\"　\".join(random.sample([k['kanji'] for k in from_strokecount(*list(range(27, 31)))], 7)))"
   ]
  },
  {
   "cell_type": "markdown",
   "metadata": {},
   "source": [
    "# CHISE (Character Information Service Environment)\n",
    "\n",
    "The [CHISE](http://www.chise.org/ids/index.html) project is similar to the krad file we looked at above.\n",
    "However, instead of decomposing a Kanji into a mere set of radicals, they decompose each Kanji into ideographs (essentially, simpler Kanji) and keep track of the _position_ of each ideograph within the Kanji, as well as the number of times that it appears.  This can be more helpful than krad."
   ]
  },
  {
   "cell_type": "code",
   "execution_count": null,
   "metadata": {},
   "outputs": [],
   "source": [
    "# ! wget \"http://git.chise.org/gitweb/?p=chise/ids.git;a=blob_plain;f=IDS-UCS-Basic.txt\" -O IDS-UCS-Basic.txt"
   ]
  },
  {
   "cell_type": "code",
   "execution_count": null,
   "metadata": {},
   "outputs": [],
   "source": [
    "chise = open('IDS-UCS-Basic.txt', encoding='utf-8').read().rstrip()\n",
    "for line in chise.split('\\n')[20:30]:\n",
    "    h1(line)"
   ]
  },
  {
   "cell_type": "code",
   "execution_count": null,
   "metadata": {},
   "outputs": [],
   "source": [
    "def parse_chise_ideographs(text):\n",
    "    #\n",
    "    # Each ideograph is either:\n",
    "    # \n",
    "    #     1) A single character, where a character for the ideograph actually exists\n",
    "    #     2) An escape code in the form of \"&CDP-FFFF;\", where FFFF is hex for the code.\n",
    "    #\n",
    "    while text:\n",
    "        if text.startswith('&'):\n",
    "            end = text.index(';')\n",
    "            yield text[:end + 1]\n",
    "            text = text[end + 1:]\n",
    "        else:\n",
    "            yield text[0]\n",
    "            text = text[1:]\n",
    "    \n",
    "def parse_chise():\n",
    "    for line in chise.split('\\n')[1:]:\n",
    "        code_point, kanji, ideographs = line.rstrip().split('\\t', 2)\n",
    "        yield kanji, list(parse_chise_ideographs(ideographs))\n",
    "        \n",
    "chise_dict = dict(parse_chise())\n",
    "h1('鉄')\n",
    "h1(*chise_dict['鉄'])"
   ]
  },
  {
   "cell_type": "code",
   "execution_count": null,
   "metadata": {},
   "outputs": [],
   "source": [
    "len(chise_dict)"
   ]
  },
  {
   "cell_type": "code",
   "execution_count": null,
   "metadata": {},
   "outputs": [],
   "source": [
    "''.join(chise_dict.keys())"
   ]
  },
  {
   "cell_type": "code",
   "execution_count": null,
   "metadata": {},
   "outputs": [],
   "source": [
    "import random\n",
    "chise_heisig = {k: v for (k, v) in chise_dict.items() if k in heisig_dict}\n",
    "for key, value in random.sample(chise_heisig.items(), 10):\n",
    "    h1(key, \"\".join(value))"
   ]
  },
  {
   "cell_type": "code",
   "execution_count": null,
   "metadata": {},
   "outputs": [],
   "source": [
    "for k in \"庁 ⿸广丁\":\n",
    "    try:\n",
    "        kd = heisig_dict[k]\n",
    "        meaning = kd['keyword']\n",
    "    except (KeyError, IndexError):\n",
    "        meaning = None\n",
    "        \n",
    "    print(k, meaning)"
   ]
  },
  {
   "cell_type": "code",
   "execution_count": null,
   "metadata": {},
   "outputs": [],
   "source": [
    "# Let's look at the available Kanji layouts.\n",
    "# Recall that the first element in the ideograph list is the layout.\n",
    "import collections\n",
    "most_common = collections.Counter(ideo[0] for ideo in chise_dict.values()).most_common(12)\n",
    "most_common"
   ]
  },
  {
   "cell_type": "code",
   "execution_count": null,
   "metadata": {},
   "outputs": [],
   "source": [
    "h1(*[layout for (layout, count) in most_common])"
   ]
  },
  {
   "cell_type": "code",
   "execution_count": null,
   "metadata": {},
   "outputs": [],
   "source": [
    "most_common_names = [            # For the purists, the Japanese equivalent is below:\n",
    "    'left-right',                # hen/dzukuri\n",
    "    'above-below',               # kanmuri/ashi\n",
    "    'surround-from-upper-left',  # tare\n",
    "    'surround-from-lower-left',  # nyou\n",
    "    'surround-from-above',       # kamae (enclosing)\n",
    "    'above-middle-below',        # ?\n",
    "    'full-surround',             # kamae\n",
    "    'surround-from-upper-right', # kamae\n",
    "    'left-middle-right',         # ?\n",
    "    'surround-from-left',        # kamae\n",
    "    'overlaid',                  # ?\n",
    "    'surround-from-below',       # kamae\n",
    "]\n",
    "#\n",
    "# By far the most common layout is left-to-right, followed by top-and-bottom.\n",
    "# The remaining layouts are far less common, which is possibly why the Japanese\n",
    "# gave up trying to think up new names for them, and just called them all \"kamae\". \n",
    "#\n",
    "# Let's plot the above, just because we can\n",
    "#\n",
    "most_common_count = [count for (layout, count) in most_common]\n",
    "y_pos = list(reversed(range(len(most_common_count))))\n",
    "\n",
    "plt.figure(figsize=(12, 4))\n",
    "plt.barh(y_pos, most_common_count)\n",
    "plt.yticks(y_pos, most_common_names)\n",
    "plt.title('frequency of layouts in the CHISE dataset')\n",
    "plt.grid();"
   ]
  },
  {
   "cell_type": "code",
   "execution_count": null,
   "metadata": {},
   "outputs": [],
   "source": [
    "layouts = [layout for (layout, count) in most_common]\n",
    "\n",
    "def filter_layouts(parts):\n",
    "    return [p for p in parts if p not in layouts]\n",
    "\n",
    "plot_hist([len(filter_layouts(parts)) for (kanji, parts) in chise_dict.items()])\n",
    "plt.title('Histogram of number of components across the CHISE dataset')\n",
    "plt.ylabel('Number of Kanji')\n",
    "plt.xlabel('Number of parts');"
   ]
  },
  {
   "cell_type": "code",
   "execution_count": null,
   "metadata": {},
   "outputs": [],
   "source": [
    "# Sometimes, you have to perform multiple look-ups to break a Kanji up entirely\n",
    "h1('恕')\n",
    "h1(*chise_dict['恕'])\n",
    "h1(*chise_dict['如'])"
   ]
  },
  {
   "cell_type": "code",
   "execution_count": null,
   "metadata": {},
   "outputs": [],
   "source": [
    "# Let's define a function to do that\n",
    "def chise_split(kanji):\n",
    "    try:\n",
    "        ideographs = chise_dict[kanji]\n",
    "    except KeyError:\n",
    "        return [kanji]\n",
    "    if len(ideographs) == 1:\n",
    "        return ideographs\n",
    "    result = []\n",
    "    for i in ideographs:\n",
    "        result.extend(chise_split(i))\n",
    "    return result\n",
    "\n",
    "h1(*chise_split('恕'))"
   ]
  },
  {
   "cell_type": "code",
   "execution_count": null,
   "metadata": {},
   "outputs": [],
   "source": [
    "h1(*chise_split('鉄'))"
   ]
  },
  {
   "cell_type": "code",
   "execution_count": null,
   "metadata": {},
   "outputs": [],
   "source": [
    "h1(*krad_dict['鉄'])"
   ]
  },
  {
   "cell_type": "code",
   "execution_count": null,
   "metadata": {},
   "outputs": [],
   "source": [
    "# TODO: the above represents a traversal of a binary tree"
   ]
  },
  {
   "cell_type": "code",
   "execution_count": null,
   "metadata": {},
   "outputs": [],
   "source": [
    "# ... but we digress.  Let's get back to the actual data:\n",
    "h1(*chise_dict['鉄'])"
   ]
  },
  {
   "cell_type": "markdown",
   "metadata": {},
   "source": [
    "The ideographs should be interpreted in [Polish notation](https://en.wikipedia.org/wiki/Polish_notation).\n",
    "In the example above, the first character outlines the layout of the Kanji: left-to-right.\n",
    "The following characters correspond to the left and right parts of the Kanji, respectively.\n",
    "So the above example effectively says that \n",
    "\n",
    "# 鉄\n",
    "\n",
    "can be constructed by squishing the following two characters together:\n",
    "\n",
    "## 金　失"
   ]
  },
  {
   "cell_type": "code",
   "execution_count": null,
   "metadata": {},
   "outputs": [],
   "source": [
    "# You can also flip the mapping to go the other way around\n",
    "import collections\n",
    "inv_chise_dict = collections.defaultdict(list)\n",
    "for kanji, ideographs in chise_dict.items():\n",
    "    for i in ideographs:\n",
    "        inv_chise_dict[i].append(kanji)\n",
    "\n",
    "# Find the Kanji that contains both 金 and 失\n",
    "h1(*set(inv_chise_dict['金']).intersection(set(inv_chise_dict['失'])))\n",
    "\n",
    "# This is particularly helpful when you know _part_ of a Kanji, but don't know the rest of it"
   ]
  },
  {
   "cell_type": "code",
   "execution_count": null,
   "metadata": {},
   "outputs": [],
   "source": [
    "# The above is so useful!  Let's generalize into a function\n",
    "def chise_narrow(*parts):\n",
    "    parts = list(parts)\n",
    "    first_part = parts.pop()\n",
    "    candidates = set(inv_chise_dict[first_part])\n",
    "    while parts:\n",
    "        candidates = candidates.intersection(set(inv_chise_dict[parts.pop()]))\n",
    "    return candidates\n",
    "\n",
    "h1(*chise_narrow('心', '口'))"
   ]
  },
  {
   "cell_type": "code",
   "execution_count": null,
   "metadata": {},
   "outputs": [],
   "source": [
    "'止' in chise_dict['正']"
   ]
  },
  {
   "cell_type": "code",
   "execution_count": null,
   "metadata": {},
   "outputs": [],
   "source": [
    "# Sometimes, we have to do _multiple_ CHISE breakdowns to determine membership\n",
    "'止' in chise_dict['政']"
   ]
  },
  {
   "cell_type": "code",
   "execution_count": null,
   "metadata": {},
   "outputs": [],
   "source": [
    "def chise_contains(parent, candidate):\n",
    "    \"\"\"Return True if the parent Kanji contains the candidate Kanji.\"\"\"\n",
    "    try:\n",
    "        children = chise_dict[parent]\n",
    "    except KeyError:\n",
    "        # Don't know how to decompose this Kanji\n",
    "        return False\n",
    "    if candidate in children:\n",
    "        return True\n",
    "    elif children == [parent]:\n",
    "        # We cannot decompose this Kanji any further using CHISE.\n",
    "        return False\n",
    "    for child in chise_dict[parent]:\n",
    "        if chise_contains(child, candidate):\n",
    "            return True\n",
    "    return False\n",
    "\n",
    "\n",
    "demo(chise_contains)('正', '止')\n",
    "demo(chise_contains)('政', '止')\n",
    "demo(chise_contains)('涼', '水')\n",
    "demo(chise_contains)('涼', '氵')\n",
    "demo(chise_contains)('渉', '止')"
   ]
  },
  {
   "cell_type": "code",
   "execution_count": null,
   "metadata": {},
   "outputs": [],
   "source": [
    "chise_dict[fkw['just so']]"
   ]
  },
  {
   "cell_type": "code",
   "execution_count": null,
   "metadata": {},
   "outputs": [],
   "source": [
    "chise_dict[fkw['bridegroom']]"
   ]
  },
  {
   "cell_type": "code",
   "execution_count": null,
   "metadata": {},
   "outputs": [],
   "source": [
    "chise_dict['胥']"
   ]
  },
  {
   "cell_type": "code",
   "execution_count": null,
   "metadata": {},
   "outputs": [],
   "source": [
    "# Some questions:\n",
    "#\n",
    "# - How many of these escapes are there? It looks like &CDP-8958; should really be equivalent to 月\n",
    "# - 𤴓 is _really_ similar to 疋. How many other such pairs are there?"
   ]
  },
  {
   "cell_type": "code",
   "execution_count": null,
   "metadata": {},
   "outputs": [],
   "source": [
    "krad_dict['疋']"
   ]
  },
  {
   "cell_type": "code",
   "execution_count": null,
   "metadata": {},
   "outputs": [],
   "source": [
    "# krad_dict['𤴓']"
   ]
  },
  {
   "cell_type": "markdown",
   "metadata": {},
   "source": [
    "# Unleash the Graphs"
   ]
  },
  {
   "cell_type": "code",
   "execution_count": null,
   "metadata": {},
   "outputs": [],
   "source": [
    "def includes(part, superpart):\n",
    "    # print(child, chise_parent)\n",
    "    try:\n",
    "        return part in chise_dict[superpart]\n",
    "    except KeyError:\n",
    "        return False\n",
    "\n",
    "demo(includes)('止', '正')\n",
    "demo(includes)('歩', '頻')\n",
    "demo(includes)('宀', fkw['dormitory'])"
   ]
  },
  {
   "cell_type": "code",
   "execution_count": null,
   "metadata": {},
   "outputs": [],
   "source": [
    "import matplotlib.font_manager\n",
    "\n",
    "#\n",
    "# Getting Japanese fonts to work with Networkx can bit a little tricky.\n",
    "#\n",
    "# https://qiita.com/grachro/items/4c9b03366cae2df3a301\n",
    "# https://linuxfan.info/ubuntu-18-04-change-ja-font\n",
    "# https://showa-yojyo.github.io/notebook/python-networkx/drawing.html \n",
    "#\n",
    "fonts = matplotlib.font_manager.findSystemFonts(fontpaths=None, fontext='ttf')\n",
    "jp_fonts = [f for f in fonts if 'takao' in f.lower()]\n",
    "print(jp_fonts)\n",
    "jp_prop = matplotlib.font_manager.FontProperties(fname=jp_fonts[0])\n",
    "jp_prop.set_size(40)"
   ]
  },
  {
   "cell_type": "code",
   "execution_count": null,
   "metadata": {},
   "outputs": [],
   "source": [
    "def radical_similarity(kanji1, kanji2):\n",
    "    return len(find_similar_radicals(kanji1, kanji2))\n",
    "\n",
    "def normed_radical_similarity(kanji1, kanji2):\n",
    "    num_similar = len(find_similar_radicals(kanji1, kanji2))\n",
    "    num1 = len(krad_dict[kanji1])\n",
    "    num2 = len(krad_dict[kanji2])\n",
    "    return num_similar / (num1 + num2)"
   ]
  },
  {
   "cell_type": "code",
   "execution_count": null,
   "metadata": {},
   "outputs": [],
   "source": [
    "import networkx as nx\n",
    "from networkx.drawing.nx_agraph import graphviz_layout, write_dot\n",
    "import IPython.display\n",
    "\n",
    "LAYOUTS = '⿰ ⿱ ⿸ ⿺ ⿵ ⿳ ⿴ ⿹ ⿲ ⿷ ⿻ ⿶'\n",
    "\n",
    "\n",
    "def plot_chise_helper(graph, kanji, depth, order, max_depth, parent_node_name=None):\n",
    "    try:\n",
    "        parts = chise_dict[kanji]\n",
    "        if parts == [kanji]:\n",
    "            parts = []\n",
    "    except KeyError:\n",
    "        parts = []\n",
    "        \n",
    "    print(kanji, parts)\n",
    "    \n",
    "    #\n",
    "    # We name the nodes based on the order and depth so that graphviz\n",
    "    # orders them correctly.\n",
    "    #\n",
    "    node_name = '%d_%d' % (depth, order)\n",
    "    graph.add_node(node_name, label=kanji)\n",
    "    if parent_node_name is not None:\n",
    "        graph.add_edge(parent_node_name, node_name)\n",
    "        \n",
    "    if depth >= max_depth:\n",
    "        return\n",
    "    \n",
    "    if (not parts) or (parts[0] not in LAYOUTS):\n",
    "        return\n",
    "    \n",
    "    layout_name = '%s_%s' % (parts[0], depth)\n",
    "    \n",
    "    graph.add_node(layout_name, label=parts[0])\n",
    "    graph.add_edge(node_name, layout_name)\n",
    "    \n",
    "    children = parts[1:]\n",
    "    for order, part in enumerate(children):\n",
    "        plot_chise_helper(graph, part, depth + 1, order, max_depth, parent_node_name=layout_name)\n",
    "\n",
    "\n",
    "def plot_chise(kanji, figsize=(12, 6), max_depth=3):\n",
    "    \"\"\"Plot a tree with the CHISE breakdown for a single Kanji.\"\"\"\n",
    "    graph = nx.DiGraph()\n",
    "    \n",
    "    plot_chise_helper(graph, kanji, 0, 1, max_depth)\n",
    "    \n",
    "    fix, ax = plt.subplots(figsize=figsize)\n",
    "    positions = graphviz_layout(graph, 'dot')\n",
    "    \n",
    "    nx.draw(graph, pos=positions, with_labels=False, font_weight='bold',\n",
    "            node_color='#aaaaaa', node_size=1000, edge_color='#999999')\n",
    "    labels = {key: value.get('label', '') for (key, value) in graph.nodes().items()}\n",
    "    label_positions = nx.draw_networkx_labels(graph, positions, labels=labels)\n",
    "    \n",
    "    for text in label_positions.values():\n",
    "        text.set_fontproperties(jp_prop)\n",
    "    \n",
    "    plt.show()\n",
    "    return graph\n",
    "\n",
    "#\n",
    "# Why can't we print the layout characters?!\n",
    "#\n",
    "# https://askubuntu.com/questions/425030/how-can-i-determine-which-installed-fonts-can-display-a-certain-glyph\n",
    "# https://askubuntu.com/questions/463798/how-to-check-if-a-ttf-file-contains-a-certain-character\n",
    "#\n",
    "# It works if we output via graphviz (dot -Tpng < graph.dot > image.png)...\n",
    "#\n",
    "graph = plot_chise(\"露\", max_depth=3)\n",
    "write_dot(graph, 'plot_chise.dot')\n",
    "!dot -Tpng < plot_chise.dot > plot_chise.png\n",
    "IPython.display.Image('plot_chise.png')"
   ]
  },
  {
   "cell_type": "code",
   "execution_count": null,
   "metadata": {},
   "outputs": [],
   "source": [
    "graph = plot_chise(fkw['prison'])\n",
    "write_dot(graph, 'plot_chise.dot')\n",
    "!dot -Tpng < plot_chise.dot > plot_chise.png\n",
    "IPython.display.Image('plot_chise.png')"
   ]
  },
  {
   "cell_type": "code",
   "execution_count": null,
   "metadata": {},
   "outputs": [],
   "source": [
    "graph = plot_chise('疫');\n",
    "write_dot(graph, 'plot_chise.dot')\n",
    "!dot -Tpng < plot_chise.dot > plot_chise.png\n",
    "IPython.display.Image('plot_chise.png')"
   ]
  },
  {
   "cell_type": "code",
   "execution_count": null,
   "metadata": {},
   "outputs": [],
   "source": [
    "tkw['疫']"
   ]
  },
  {
   "cell_type": "code",
   "execution_count": null,
   "metadata": {},
   "outputs": [],
   "source": [
    "def yield_words(kanji):\n",
    "    for k, v in chise_dict.items():\n",
    "        if kanji in v and k in kanjidic:\n",
    "            for m in kanjidic[k]['meanings']:\n",
    "                yield m\n",
    "words = list(yield_words('氵'))"
   ]
  },
  {
   "cell_type": "code",
   "execution_count": null,
   "metadata": {},
   "outputs": [],
   "source": [
    "# !pip install wordcloud\n",
    "words"
   ]
  },
  {
   "cell_type": "code",
   "execution_count": null,
   "metadata": {},
   "outputs": [],
   "source": [
    "import wordcloud\n",
    "\n",
    "\n",
    "def show_cloud(kanji):\n",
    "    words = list(yield_words(kanji))\n",
    "    \n",
    "    # Generate a word cloud image\n",
    "    wc = wordcloud.WordCloud().generate(\" \".join(words))\n",
    "\n",
    "    # Display the generated image:\n",
    "    # the matplotlib way:\n",
    "    import matplotlib.pyplot as plt\n",
    "    plt.imshow(wc, interpolation='bilinear')\n",
    "    plt.axis(\"off\")\n",
    "    \n",
    "show_cloud(fkw['woman'])"
   ]
  },
  {
   "cell_type": "code",
   "execution_count": null,
   "metadata": {
    "scrolled": false
   },
   "outputs": [],
   "source": [
    "import collections\n",
    "import itertools\n",
    "\n",
    "import matplotlib.pyplot as plt\n",
    "\n",
    "def construct_graph(kanji_list, edge_function, threshold=0, is_digraph=False):\n",
    "    \"\"\"Construct a graph that covers the specified Kanji.\"\"\"\n",
    "    if is_digraph:\n",
    "        G = nx.DiGraph()\n",
    "    else:\n",
    "        G = nx.Graph()\n",
    "\n",
    "    for k in kanji_list:\n",
    "        try:\n",
    "            keyword = heisig_dict[k]['keyword']\n",
    "        except:\n",
    "            keyword = ''\n",
    "        G.add_node(k, keyword=keyword)\n",
    "\n",
    "    for k1, k2 in itertools.permutations(kanji_list, 2):\n",
    "        weight = edge_function(k1, k2)\n",
    "        if weight > threshold:\n",
    "            # print(k1, k2, weight, threshold)\n",
    "            G.add_edge(k1, k2, weight=weight)\n",
    "    return G\n",
    "\n",
    "def plot_graph(G, figsize=(12, 6), show_labels=True, model='dot'):\n",
    "    fig, ax = plt.subplots(figsize=figsize)\n",
    "    \n",
    "    if model == 'spring':\n",
    "        positions = nx.spring_layout(G)\n",
    "    else:\n",
    "        positions = graphviz_layout(G, model)\n",
    "    \n",
    "    nx.draw(G, pos=positions, with_labels=False, font_weight='bold',\n",
    "            node_color='#aaaaaa', node_size=1000, edge_color='#999999')\n",
    "    label_positions = nx.draw_networkx_labels(G, positions)\n",
    "    for text in label_positions.values():\n",
    "        text.set_fontproperties(jp_prop)\n",
    "        \n",
    "    if show_labels:\n",
    "        #\n",
    "        # Some magic to dynamically determine the proper offset for the label\n",
    "        # https://stackoverflow.com/questions/43894987/networkx-node-labels-relative-position\n",
    "        #\n",
    "        renderer = fig.canvas.get_renderer()\n",
    "        trans = plt.gca().transData.inverted()\n",
    "        text = list(label_positions.values())[0]\n",
    "        bounding_box = text.get_window_extent(renderer=renderer)\n",
    "        bounding_box_data = bounding_box.transformed(trans)\n",
    "        text_height = bounding_box_data.y1 - bounding_box_data.y0\n",
    "        dy = 14 * text_height / 20\n",
    "        \n",
    "        keywords = {key: value['keyword'] for key, value in G.nodes().items()}\n",
    "        keyword_positions = {k: (x, y - dy) for (k, (x, y)) in positions.items()}\n",
    "        label_positions = nx.draw_networkx_labels(\n",
    "            G, keyword_positions, labels=keywords, font_size=12, font_color='#ff0000'\n",
    "        )\n",
    "\n",
    "    plt.show()\n",
    "\n",
    "def plot_heisig_lesson(lesson_number):\n",
    "    kanji = heisig_lesson[lesson_number]\n",
    "    radicals = collections.Counter()\n",
    "    for k in kanji:\n",
    "        radicals.update(krad_dict[k])\n",
    "    kanji_plus_radicals = list(kanji) + [x for x, y in radicals.most_common(10)]\n",
    "    \n",
    "    G = construct_graph(kanji_plus_radicals, parent_child, is_digraph=False)\n",
    "    plot_graph(G, model='neato')\n",
    "    \n",
    "    # print(sorted(nx.degree_centrality(G).items(), key=lambda x: x[1], reverse=True)[:10])\n",
    "    \n",
    "    return G\n",
    "    \n",
    "G = plot_heisig_lesson(17)"
   ]
  },
  {
   "cell_type": "code",
   "execution_count": null,
   "metadata": {},
   "outputs": [],
   "source": [
    "krad_dict[fkw['challenge']]"
   ]
  },
  {
   "cell_type": "code",
   "execution_count": null,
   "metadata": {},
   "outputs": [],
   "source": [
    "parent_child('扎', fkw['challenge'])"
   ]
  },
  {
   "cell_type": "code",
   "execution_count": null,
   "metadata": {},
   "outputs": [],
   "source": [
    "chise_dict[fkw['walk']]"
   ]
  },
  {
   "cell_type": "code",
   "execution_count": null,
   "metadata": {},
   "outputs": [],
   "source": [
    "chise_dict[fkw['repeatedly']]"
   ]
  },
  {
   "cell_type": "code",
   "execution_count": null,
   "metadata": {},
   "outputs": [],
   "source": [
    "# Seems like a CHISE error\n",
    "fkw['walk'], chise_dict[fkw['repeatedly']][1]"
   ]
  },
  {
   "cell_type": "code",
   "execution_count": null,
   "metadata": {},
   "outputs": [],
   "source": [
    "def overlaps(kanji1, kanji2):\n",
    "    try:\n",
    "        k1 = chise_dict[kanji1]\n",
    "        k2 = chise_dict[kanji2]\n",
    "        if any([part in k2 for part in k1]):\n",
    "            return True\n",
    "        if any([part in k1 for part in k2]):\n",
    "            return True    \n",
    "    except KeyError:\n",
    "        pass\n",
    "    return False\n",
    "    \n",
    "demo(overlaps)(fkw['forehead'], fkw['petition'])"
   ]
  },
  {
   "cell_type": "code",
   "execution_count": null,
   "metadata": {},
   "outputs": [],
   "source": [
    "def same_first_part(kanji1, kanji2):\n",
    "    try:\n",
    "        k1 = chise_dict[kanji1]\n",
    "        k2 = chise_dict[kanji2]\n",
    "    except KeyError:\n",
    "        return False\n",
    "    if k1[0] != k2[0]:\n",
    "        return False\n",
    "    return k1[1] == k2[1]\n",
    "\n",
    "demo(same_first_part)(fkw['iron'], fkw['silver'])\n",
    "demo(same_first_part)(fkw['iron'], fkw['gold'])"
   ]
  },
  {
   "cell_type": "code",
   "execution_count": null,
   "metadata": {},
   "outputs": [],
   "source": [
    "heisig_kanji = set(heisig_dict)\n",
    "heisig_parts = set()\n",
    "for k in heisig_kanji:\n",
    "    try:\n",
    "        parts = chise_dict[k]\n",
    "    except KeyError:\n",
    "        continue\n",
    "    # Exclude escape codes\n",
    "    heisig_parts |= set([p for p in parts if p not in layouts and len(p) == 1])\n",
    "heisig_kanji |= heisig_parts\n",
    "assert '宀' in heisig_kanji\n",
    "\n",
    "G = construct_graph(heisig_kanji, includes)\n",
    "CC = list(nx.connected_components(G))"
   ]
  },
  {
   "cell_type": "code",
   "execution_count": null,
   "metadata": {},
   "outputs": [],
   "source": [
    "len(CC)"
   ]
  },
  {
   "cell_type": "code",
   "execution_count": null,
   "metadata": {},
   "outputs": [],
   "source": [
    "largest_cc = sorted(CC, key=len, reverse=True)[0]\n",
    "''.join(largest_cc)"
   ]
  },
  {
   "cell_type": "code",
   "execution_count": null,
   "metadata": {},
   "outputs": [],
   "source": [
    "len(largest_cc)"
   ]
  },
  {
   "cell_type": "code",
   "execution_count": null,
   "metadata": {},
   "outputs": [],
   "source": [
    "nx.shortest_path(G, '硫', '判')"
   ]
  },
  {
   "cell_type": "code",
   "execution_count": null,
   "metadata": {
    "scrolled": true
   },
   "outputs": [],
   "source": [
    "nx.shortest_path(G, '硫', '畔')"
   ]
  },
  {
   "cell_type": "code",
   "execution_count": null,
   "metadata": {},
   "outputs": [],
   "source": [
    "G_heisig = construct_graph(heisig_kanji, includes, is_digraph=True)\n",
    "nx.write_yaml(G_heisig, 'graph.yml')"
   ]
  },
  {
   "cell_type": "code",
   "execution_count": null,
   "metadata": {},
   "outputs": [],
   "source": [
    "def search(graph, node, seen, depth=1000, min_strokes=0, max_strokes=1000):\n",
    "    seen.add(node)\n",
    "    \n",
    "    if depth == 0:\n",
    "        return\n",
    "    \n",
    "    neighbors = [src for (src, dst) in graph.in_edges([node])]\n",
    "    neighbors += [dst for (src, dst) in graph.out_edges([node])]\n",
    "    \n",
    "    for n in neighbors:\n",
    "        try:\n",
    "            dest_strokes = int(kanjidic[n]['S'])\n",
    "        except KeyError:\n",
    "            dest_strokes = 0\n",
    "        if n not in seen and min_strokes <= dest_strokes < max_strokes:\n",
    "            search(graph, n, seen, depth - 1)"
   ]
  },
  {
   "cell_type": "code",
   "execution_count": null,
   "metadata": {},
   "outputs": [],
   "source": [
    "def focus(kanji, depth=3, model='dot', min_strokes=0, max_strokes=1000):\n",
    "    seen = set([kanji])\n",
    "    search(G_heisig, kanji, seen, depth=depth, min_strokes=min_strokes, max_strokes=max_strokes)\n",
    "    sub = G_heisig.subgraph(seen)\n",
    "    plot_graph(sub, model=model)\n",
    "\n",
    "focus('洋', depth=1)"
   ]
  },
  {
   "cell_type": "code",
   "execution_count": null,
   "metadata": {},
   "outputs": [],
   "source": [
    "focus(fkw['dormitory'], depth=2, model='neato')"
   ]
  },
  {
   "cell_type": "code",
   "execution_count": null,
   "metadata": {},
   "outputs": [],
   "source": [
    "focus(fkw['month'], depth=2, model='neato')"
   ]
  },
  {
   "cell_type": "code",
   "execution_count": null,
   "metadata": {},
   "outputs": [],
   "source": [
    "focus(fkw['fire'], depth=2, model='neato')"
   ]
  },
  {
   "cell_type": "code",
   "execution_count": null,
   "metadata": {},
   "outputs": [],
   "source": [
    "focus(fkw['water'], model='dot', depth=2)"
   ]
  },
  {
   "cell_type": "code",
   "execution_count": null,
   "metadata": {},
   "outputs": [],
   "source": [
    "focus(fkw['tree'], depth=1, model='neato')"
   ]
  },
  {
   "cell_type": "code",
   "execution_count": null,
   "metadata": {},
   "outputs": [],
   "source": [
    "focus(fkw['gold'], depth=1, model='neato')"
   ]
  },
  {
   "cell_type": "code",
   "execution_count": null,
   "metadata": {},
   "outputs": [],
   "source": [
    "focus(fkw['soil'], depth=1, model='neato', max_strokes=10)"
   ]
  },
  {
   "cell_type": "code",
   "execution_count": null,
   "metadata": {},
   "outputs": [],
   "source": [
    "focus(fkw['soil'], depth=1, model='neato', min_strokes=10)"
   ]
  },
  {
   "cell_type": "code",
   "execution_count": null,
   "metadata": {},
   "outputs": [],
   "source": [
    "focus(fkw['day'], depth=1, model='neato')"
   ]
  },
  {
   "cell_type": "code",
   "execution_count": null,
   "metadata": {
    "scrolled": true
   },
   "outputs": [],
   "source": [
    "focus(fkw['signature'], depth=2)"
   ]
  },
  {
   "cell_type": "code",
   "execution_count": null,
   "metadata": {},
   "outputs": [],
   "source": [
    "focus(fkw['woman'], model='neato', max_strokes=10, depth=2)"
   ]
  },
  {
   "cell_type": "code",
   "execution_count": null,
   "metadata": {},
   "outputs": [],
   "source": [
    "includes(fkw['signature'], fkw['eye'])"
   ]
  },
  {
   "cell_type": "code",
   "execution_count": null,
   "metadata": {},
   "outputs": [],
   "source": [
    "chise_dict[fkw['dormitory']]"
   ]
  },
  {
   "cell_type": "code",
   "execution_count": null,
   "metadata": {},
   "outputs": [],
   "source": [
    "includes(fkw['dormitory'], fkw['large'])"
   ]
  },
  {
   "cell_type": "code",
   "execution_count": null,
   "metadata": {},
   "outputs": [],
   "source": []
  }
 ],
 "metadata": {
  "kernelspec": {
   "display_name": "Python 3",
   "language": "python",
   "name": "python3"
  },
  "language_info": {
   "codemirror_mode": {
    "name": "ipython",
    "version": 3
   },
   "file_extension": ".py",
   "mimetype": "text/x-python",
   "name": "python",
   "nbconvert_exporter": "python",
   "pygments_lexer": "ipython3",
   "version": "3.6.5"
  }
 },
 "nbformat": 4,
 "nbformat_minor": 2
}
