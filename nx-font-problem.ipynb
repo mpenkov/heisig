{
 "cells": [
  {
   "cell_type": "code",
   "execution_count": 1,
   "metadata": {},
   "outputs": [
    {
     "name": "stdout",
     "output_type": "stream",
     "text": [
      "['/usr/share/fonts/truetype/takao-mincho/TakaoMincho.ttf', '/usr/share/fonts/truetype/takao-gothic/TakaoGothic.ttf', '/usr/share/fonts/truetype/takao-mincho/TakaoPMincho.ttf', '/usr/share/fonts/truetype/takao-gothic/TakaoPGothic.ttf']\n"
     ]
    }
   ],
   "source": [
    "import networkx as nx\n",
    "import matplotlib.font_manager\n",
    "\n",
    "#\n",
    "# Getting Japanese fonts to work with Networkx can bit a little tricky.\n",
    "#\n",
    "# https://qiita.com/grachro/items/4c9b03366cae2df3a301\n",
    "# https://linuxfan.info/ubuntu-18-04-change-ja-font\n",
    "# https://showa-yojyo.github.io/notebook/python-networkx/drawing.html \n",
    "#\n",
    "fonts = matplotlib.font_manager.findSystemFonts(fontpaths=None, fontext='ttf')\n",
    "jp_fonts = [f for f in fonts if 'takao' in f.lower()]\n",
    "print(jp_fonts)\n",
    "jp_prop = matplotlib.font_manager.FontProperties(fname=jp_fonts[0])\n",
    "jp_prop.set_size(40)"
   ]
  },
  {
   "cell_type": "code",
   "execution_count": 2,
   "metadata": {},
   "outputs": [
    {
     "data": {
      "image/png": "[encoded data removed]",
      "text/plain": [
       "<Figure size 432x288 with 1 Axes>"
      ]
     },
     "metadata": {},
     "output_type": "display_data"
    }
   ],
   "source": [
    "import matplotlib.pyplot as plt\n",
    "from networkx.drawing.nx_agraph import graphviz_layout, write_dot\n",
    "%matplotlib inline\n",
    "\n",
    "fix, ax = plt.subplots()\n",
    "graph = nx.Graph()\n",
    "graph.add_node('rain', label='雨')\n",
    "graph.add_node('badfont', label='風')\n",
    "graph.add_node('broken', label='⿱')\n",
    "\n",
    "positions = graphviz_layout(graph, 'dot')\n",
    "nx.draw(graph, pos=positions, with_labels=False, font_weight='bold',\n",
    "        node_color='#aaaaaa', node_size=1000, edge_color='#999999')\n",
    "labels = {key: value.get('label', '') for (key, value) in graph.nodes().items()}\n",
    "label_positions = nx.draw_networkx_labels(graph, positions, labels=labels)\n",
    "\n",
    "for node, text in label_positions.items():\n",
    "    if node != 'badfont':\n",
    "        text.set_fontproperties(jp_prop)\n",
    "\n",
    "plt.show()"
   ]
  },
  {
   "cell_type": "code",
   "execution_count": 3,
   "metadata": {},
   "outputs": [
    {
     "data": {
      "image/png": "[encoded data removed]",
      "text/plain": [
       "<IPython.core.display.Image object>"
      ]
     },
     "execution_count": 3,
     "metadata": {},
     "output_type": "execute_result"
    }
   ],
   "source": [
    "import IPython.display\n",
    "write_dot(graph, 'graph.dot')\n",
    "!dot -Tpng < graph.dot > graph.png\n",
    "IPython.display.Image('graph.png')"
   ]
  },
  {
   "cell_type": "code",
   "execution_count": null,
   "metadata": {},
   "outputs": [],
   "source": []
  }
 ],
 "metadata": {
  "kernelspec": {
   "display_name": "Python 3",
   "language": "python",
   "name": "python3"
  },
  "language_info": {
   "codemirror_mode": {
    "name": "ipython",
    "version": 3
   },
   "file_extension": ".py",
   "mimetype": "text/x-python",
   "name": "python",
   "nbconvert_exporter": "python",
   "pygments_lexer": "ipython3",
   "version": "3.6.5"
  }
 },
 "nbformat": 4,
 "nbformat_minor": 2
}
