{
 "cells": [
  {
   "cell_type": "code",
   "execution_count": 1,
   "metadata": {},
   "outputs": [],
   "source": [
    "# ! wget ftp://ftp.monash.edu/pub/nihongo/radkfile.gz"
   ]
  },
  {
   "cell_type": "code",
   "execution_count": 2,
   "metadata": {},
   "outputs": [],
   "source": [
    "# ! wget ftp://ftp.monash.edu/pub/nihongo/kradfile.gz"
   ]
  },
  {
   "cell_type": "code",
   "execution_count": 3,
   "metadata": {},
   "outputs": [],
   "source": [
    "import gzip\n",
    "with gzip.GzipFile('kradfile.gz') as fin:\n",
    "    krad = fin.read().decode('euc-jp')"
   ]
  },
  {
   "cell_type": "code",
   "execution_count": 4,
   "metadata": {},
   "outputs": [
    {
     "name": "stdout",
     "output_type": "stream",
     "text": [
      "唖 : ｜ 一 口\n",
      "娃 : 女 土\n",
      "阿 : 一 口 亅 阡\n",
      "哀 : 衣 口 亠\n",
      "愛 : 心 爪 冖 夂\n",
      "挨 : 矢 厶 扎 乞\n",
      "姶 : 一 口 女 个\n",
      "逢 : ｜ 込 二 夂\n",
      "葵 : 人 大 二 癶 艾 ノ\n",
      "茜 : 西 艾\n",
      "穐 : 禾 亀 乙 勹 田\n",
      "悪 : ｜ 一 口 心\n",
      "握 : 至 土 厶 尸 扎\n",
      "渥 : 至 汁 土 厶 尸\n",
      "旭 : 日 九\n",
      "葦 : 口 艾 韋\n",
      "芦 : 戸 艾 一 尸\n",
      "鯵 : 魚 大 田 厶 彡 杰\n",
      "梓 : 十 辛 木 立\n",
      "圧 : 土 厂\n"
     ]
    }
   ],
   "source": [
    "# The krad file describes the radicals present in each Kanji\n",
    "print('\\n'.join(krad.split('\\n')[100:120]))"
   ]
  },
  {
   "cell_type": "code",
   "execution_count": 5,
   "metadata": {},
   "outputs": [],
   "source": [
    "def parse_krad():\n",
    "    for line in krad.split('\\n'):\n",
    "        if line and line[0] == \"#\":\n",
    "            continue\n",
    "        elif ' : ' in line:\n",
    "            kanji, radicals = line.split(' : ')\n",
    "            radicals = radicals.split(' ')\n",
    "            yield kanji, radicals\n",
    "        \n",
    "krad_dict = dict(parse_krad())"
   ]
  },
  {
   "cell_type": "code",
   "execution_count": 6,
   "metadata": {},
   "outputs": [
    {
     "data": {
      "text/plain": [
       "['｜', '一', '口', '心']"
      ]
     },
     "execution_count": 6,
     "metadata": {},
     "output_type": "execute_result"
    }
   ],
   "source": [
    "krad_dict['悪']"
   ]
  },
  {
   "cell_type": "code",
   "execution_count": 7,
   "metadata": {},
   "outputs": [
    {
     "data": {
      "text/plain": [
       "[('口', 1340),\n",
       " ('一', 991),\n",
       " ('｜', 646),\n",
       " ('ノ', 626),\n",
       " ('木', 601),\n",
       " ('日', 593),\n",
       " ('ハ', 542),\n",
       " ('二', 476),\n",
       " ('土', 463),\n",
       " ('田', 461)]"
      ]
     },
     "execution_count": 7,
     "metadata": {},
     "output_type": "execute_result"
    }
   ],
   "source": [
    "# What are the most common radicals?\n",
    "import collections\n",
    "radicals = collections.Counter()\n",
    "for val in krad_dict.values():\n",
    "    radicals.update(val)\n",
    "\n",
    "radicals.most_common(10)"
   ]
  },
  {
   "cell_type": "code",
   "execution_count": 8,
   "metadata": {},
   "outputs": [
    {
     "name": "stdout",
     "output_type": "stream",
     "text": [
      "衣井一羽雨臼瓜奄王黄岡乙音化火禾牙貝角革刈瓦干甘缶鬼亀黍久及弓牛巨魚巾斤金九欠穴血月犬見元玄言戸鼓五乞口工行香高黒骨込艮冊皿山士子支止氏糸至歯示而耳自鹿車手首舟十汁初女小尚色食心臣身辛人水寸世生西青斉石赤舌川舛鼠走足大辰谷竹虫長鳥爪鼎滴田斗土刀豆酉屯二肉日入乃巴馬買白麦犯釆比皮非飛鼻疋品父風文米頁片母方邦亡忙卜麻又無矛免面毛木目勿尤門也矢夕用羊里立竜力礼老个丶亅亠儿冂冖冫几凵勹匕匚卩厂厶囗夂宀尢尸屮巛已并幺广廴廾弋彑彡彳戈扎攵无曰杰歹殳毋气爻爿疔癶禹耒聿艾虍豕豸阡隶隹韋韭髟鬥鬯鬲鹵黹黽齊龠\n"
     ]
    }
   ],
   "source": [
    "# Are there any circular definitions?\n",
    "circular = [key for (key, value) in krad_dict.items() if key in value]\n",
    "print(''.join(circular))"
   ]
  },
  {
   "cell_type": "code",
   "execution_count": 9,
   "metadata": {},
   "outputs": [
    {
     "name": "stdout",
     "output_type": "stream",
     "text": [
      "{'一', '汁', '亠', '隹'}\n"
     ]
    },
    {
     "data": {
      "text/plain": [
       "4"
      ]
     },
     "execution_count": 9,
     "metadata": {},
     "output_type": "execute_result"
    }
   ],
   "source": [
    "# Can we measure similarity between Kanji?\n",
    "def count_similar_radicals(kanji1, kanji2):\n",
    "    rad1 = set(krad_dict[kanji1])\n",
    "    rad2 = set(krad_dict[kanji2])\n",
    "    return len(rad1.intersection(rad2))\n",
    "\n",
    "\n",
    "def count_different_radicals(kanji1, kanji2):\n",
    "    rad1 = set(krad_dict[kanji1])\n",
    "    rad2 = set(krad_dict[kanji2])\n",
    "    diff = rad1.symmetric_difference(rad2)\n",
    "    print(diff)\n",
    "    return len(diff)\n",
    "\n",
    "\n",
    "count_different_radicals('漢', '難')"
   ]
  },
  {
   "cell_type": "code",
   "execution_count": 10,
   "metadata": {},
   "outputs": [
    {
     "data": {
      "text/plain": [
       "['難', '灘', '漢', '歎', '嘆', '喫', '儺']"
      ]
     },
     "execution_count": 10,
     "metadata": {},
     "output_type": "execute_result"
    }
   ],
   "source": [
    "def get_similar_kanji(kanji, threshold=1):\n",
    "    sim = sorted(((count_similar_radicals(kanji, k), k) for k in krad_dict),\n",
    "                 reverse=True)\n",
    "    return [k for (s, k) in sim if s > threshold]\n",
    "\n",
    "get_similar_kanji('難', 3)"
   ]
  },
  {
   "cell_type": "code",
   "execution_count": 11,
   "metadata": {},
   "outputs": [],
   "source": [
    "# ! wget http://ziggr.com/heisig/heisig-data.txt.gz"
   ]
  },
  {
   "cell_type": "code",
   "execution_count": 12,
   "metadata": {},
   "outputs": [
    {
     "name": "stdout",
     "output_type": "stream",
     "text": [
      "[{'#heisignumber': 1, 'kanji': '一', 'keyword3rd-ed': 'one', 'keyword4th-ed': 'one', 'keyword5th-ed': 'one', 'strokecount': 1, 'indexordinal': 1, 'lessonnumber': 1}, {'#heisignumber': 71, 'kanji': '乙', 'keyword3rd-ed': 'fish guts', 'keyword4th-ed': 'fish guts', 'keyword5th-ed': 'fish guts', 'strokecount': 1, 'indexordinal': 2, 'lessonnumber': 5}, {'#heisignumber': 686, 'kanji': '乃', 'keyword3rd-ed': 'from', 'keyword4th-ed': 'from', 'keyword5th-ed': 'from', 'strokecount': 2, 'indexordinal': 3, 'lessonnumber': 23}]\n"
     ]
    }
   ],
   "source": [
    "# The Heisig method assigns keywords to Kanji, and groups Kanji into lessons of increasing difficulty.\n",
    "import io\n",
    "import csv\n",
    "\n",
    "def tweak(kanji):\n",
    "    for key, value in kanji.items():\n",
    "        if value.isdigit():\n",
    "            kanji[key] = int(value)\n",
    "    return dict(kanji)\n",
    "\n",
    "with gzip.GzipFile('heisig-data.txt.gz') as fin:\n",
    "    fin.readline()\n",
    "    reader = csv.DictReader(io.StringIO(fin.read().decode('utf-8')), delimiter=':')\n",
    "    heisig = [tweak(x) for x in reader]\n",
    "    \n",
    "heisig_dict = {k['kanji']: k for k in heisig}\n",
    "\n",
    "print(heisig[:3])"
   ]
  },
  {
   "cell_type": "code",
   "execution_count": 13,
   "metadata": {},
   "outputs": [
    {
     "data": {
      "text/plain": [
       "{'#heisignumber': 370,\n",
       " 'kanji': '止',\n",
       " 'keyword3rd-ed': 'stop',\n",
       " 'keyword4th-ed': 'stop',\n",
       " 'keyword5th-ed': 'stop',\n",
       " 'strokecount': 4,\n",
       " 'indexordinal': 105,\n",
       " 'lessonnumber': 17}"
      ]
     },
     "execution_count": 13,
     "metadata": {},
     "output_type": "execute_result"
    }
   ],
   "source": [
    "heisig_dict['止']"
   ]
  },
  {
   "cell_type": "code",
   "execution_count": 14,
   "metadata": {},
   "outputs": [
    {
     "data": {
      "text/plain": [
       "26"
      ]
     },
     "execution_count": 14,
     "metadata": {},
     "output_type": "execute_result"
    }
   ],
   "source": [
    "lesson18 = [k for k in heisig if k['lessonnumber'] == 17]\n",
    "lesson18[:3]\n",
    "len(lesson18)"
   ]
  },
  {
   "cell_type": "code",
   "execution_count": 15,
   "metadata": {},
   "outputs": [
    {
     "data": {
      "text/plain": [
       "1"
      ]
     },
     "execution_count": 15,
     "metadata": {},
     "output_type": "execute_result"
    }
   ],
   "source": [
    "def common_radicals(k1, k2):\n",
    "    \"\"\"Return the number of common radicals between the two Kanji.\"\"\"\n",
    "    rad1 = set(krad_dict[k1])\n",
    "    rad2 = set(krad_dict[k2])\n",
    "    return len(rad1.intersection(rad2))\n",
    "\n",
    "\n",
    "def parent_child(k1, k2):\n",
    "    \"\"\"Return 1 if k1 is a parent of k2, or the other way around.\n",
    "    \n",
    "    A parent Kanji contains all the radicals of a child Kanji, plus more.\"\"\"\n",
    "    rad1 = set(krad_dict[k1])\n",
    "    rad2 = set(krad_dict[k2])\n",
    "    common = rad1.intersection(rad2)\n",
    "    return 1 if (common == rad1 or common == rad2) else 0\n",
    "\n",
    "parent_child('月', '朝')"
   ]
  },
  {
   "cell_type": "code",
   "execution_count": 16,
   "metadata": {},
   "outputs": [
    {
     "data": {
      "text/plain": [
       "<matplotlib.figure.Figure at 0x7f5626fe20f0>"
      ]
     },
     "metadata": {},
     "output_type": "display_data"
    }
   ],
   "source": [
    "# http://manualthinking.com/scholar-use/visual-ma-of-kanji/\n",
    "# http://manualthinking.com/wp-content/uploads/2012/05/kanji.jpg\n",
    "\n",
    "import itertools\n",
    "\n",
    "import networkx as nx\n",
    "from networkx.drawing.nx_agraph import graphviz_layout\n",
    "\n",
    "import matplotlib.pyplot as plt\n",
    "\n",
    "\n",
    "def construct_graph(kanji_list, edge_function=common_radicals, edge_threshold=0):\n",
    "    \"\"\"Construct a graph that covers the specified Kanji.\"\"\"\n",
    "    G = nx.Graph()\n",
    "    for k in kanji_list:\n",
    "        G.add_node(k['kanji'], keyword=k['keyword4th-ed'])\n",
    "\n",
    "    for k1, k2 in itertools.combinations(kanji_list, 2):\n",
    "        kanji1, kanji2 = k1['kanji'], k2['kanji']\n",
    "        weight = edge_function(kanji1, kanji2)\n",
    "        if weight:\n",
    "            G.add_edge(kanji1, kanji2)\n",
    "    return G\n",
    "\n",
    "G = construct_graph(lesson18, edge_function=parent_child)\n",
    "\n",
    "positions = graphviz_layout(G, 'neato')\n",
    "plt.figure(figsize=(12, 12))\n",
    "\n",
    "nx.draw(G, pos=positions, with_labels=False, font_weight='bold',\n",
    "        node_color='#aaaaaa', node_size=1000, edge_color='#999999')\n",
    "\n",
    "# https://qiita.com/grachro/items/4c9b03366cae2df3a301\n",
    "# fonts = matplotlib.font_manager.findSystemFonts(fontpaths=None, fontext='ttf')\n",
    "# [f for f in fonts if 'mincho' in f.lower()]\n",
    "\n",
    "keywords = {k['kanji']: k['keyword3rd-ed'] for k in lesson18}\n",
    "keyword_positions = {k: (x, y - 15) for (k, (x, y)) in positions.items()}\n",
    "nx.draw_networkx_labels(G, positions, font_family='MS Mincho', font_size=40)\n",
    "nx.draw_networkx_labels(G, keyword_positions, labels=keywords, font_size=12, font_color='red')\n",
    "plt.show()"
   ]
  },
  {
   "cell_type": "code",
   "execution_count": 17,
   "metadata": {},
   "outputs": [
    {
     "data": {
      "text/plain": [
       "'頻企肯証歩歴正止延渉賦武政誕'"
      ]
     },
     "execution_count": 17,
     "metadata": {},
     "output_type": "execute_result"
    }
   ],
   "source": [
    "# Look at the connected components of the above graph one by one\n",
    "largest_cc = sorted(nx.connected_components(G), key=len, reverse=True)[0]\n",
    "''.join(largest_cc)"
   ]
  },
  {
   "cell_type": "code",
   "execution_count": 18,
   "metadata": {
    "scrolled": false
   },
   "outputs": [
    {
     "name": "stderr",
     "output_type": "stream",
     "text": [
      "/home/misha/envs/dbi2/lib/python3.6/site-packages/matplotlib-2.0.2-py3.6-linux-x86_64.egg/matplotlib/font_manager.py:1297: UserWarning: findfont: Font family ['MS Mincho'] not found. Falling back to DejaVu Sans\n",
      "  (prop.get_family(), self.defaultFamily[fontext]))\n"
     ]
    },
    {
     "data": {
      "image/png": "[encoded data removed]",
      "text/plain": [
       "<matplotlib.figure.Figure at 0x7f563ac00e10>"
      ]
     },
     "metadata": {},
     "output_type": "display_data"
    }
   ],
   "source": [
    "import random\n",
    "\n",
    "def includes(k1, k2):\n",
    "    \"\"\"Return 1 if k1 is a parent of k2.\n",
    "    \n",
    "    A parent Kanji contains all the radicals of a child Kanji, plus more.\"\"\"\n",
    "    rad1 = set(krad_dict[k1])\n",
    "    rad2 = set(krad_dict[k2])\n",
    "    common = rad1.intersection(rad2)\n",
    "    return 1 if (common == rad1) else 0\n",
    "\n",
    "\n",
    "def construct_digraph(kanji_list):\n",
    "    \"\"\"Create a directed graph that includes the specified kanji.\"\"\"\n",
    "    D = nx.DiGraph()\n",
    "    for k1, k2 in itertools.permutations(kanji_list, 2):\n",
    "        kanji1 = k1['kanji']\n",
    "        kanji2 = k2['kanji']\n",
    "        if includes(kanji1, kanji2):\n",
    "            D.add_edge(kanji1, kanji2)\n",
    "    return D\n",
    "\n",
    "kanji_list = [heisig_dict[k] for k in largest_cc]\n",
    "D = construct_digraph(kanji_list)\n",
    "positions = graphviz_layout(D, 'dot')\n",
    "plt.figure(figsize=(12, 6))\n",
    "nx.draw(D, pos=positions, with_labels=False, font_weight='bold',\n",
    "        node_color='#aaaaaa', node_size=1000, edge_color='#999999')\n",
    "keywords = {k['kanji']: k['keyword3rd-ed'] for k in kanji_list}\n",
    "keyword_positions = {k: (x, y - 10)\n",
    "                     for (k, (x, y)) in positions.items()}\n",
    "nx.draw_networkx_labels(D, positions, font_family='MS Mincho', font_size=40)\n",
    "nx.draw_networkx_labels(D, keyword_positions, labels=keywords, font_size=12, font_color='#ff0000')\n",
    "plt.show()"
   ]
  },
  {
   "cell_type": "code",
   "execution_count": 19,
   "metadata": {},
   "outputs": [],
   "source": [
    "# Look at DiGraphs, clustering\n",
    "# What are the most similar Kanji? Differing by only one or two radicals,\n",
    "# or containing the same radicals in different arrangements?\n",
    "# Who are the biggest parents (most number of children)?\n",
    "# Kanji and PageRank?\n",
    "# What are the most commonly occurring groups of radicals?\n",
    "# What are the most ambiguous keywords?"
   ]
  },
  {
   "cell_type": "code",
   "execution_count": 20,
   "metadata": {},
   "outputs": [
    {
     "data": {
      "text/plain": [
       "['可 司 叮 哥',\n",
       " '回 口 囗 圖',\n",
       " '含 吟 合 哈',\n",
       " '戎 戈 戉 戔',\n",
       " '椙 杲 杳 橸',\n",
       " '丑 垂 万',\n",
       " '押 抽 抻',\n",
       " '脅 肋 脇',\n",
       " '桂 杜 埜',\n",
       " '己 巳 已',\n",
       " '呉 只 叭',\n",
       " '甲 申 由',\n",
       " '細 累 縲',\n",
       " '詞 訶 謌',\n",
       " '讐 誰 讎',\n",
       " '昌 晶 日',\n",
       " '森 木 林',\n",
       " '娚 嬲 嫐',\n",
       " '亜 唖',\n",
       " '穐 龝',\n",
       " '暗 音',\n",
       " '杏 呆',\n",
       " '域 哉',\n",
       " '員 唄',\n",
       " '引 弔',\n",
       " '烏 鳥',\n",
       " '卯 卩',\n",
       " '永 氷',\n",
       " '宴 晏',\n",
       " '炎 火',\n",
       " '凹 凵',\n",
       " '何 伺',\n",
       " '嘉 劼',\n",
       " '架 枷',\n",
       " '過 迥',\n",
       " '拐 招',\n",
       " '蟹 蠏',\n",
       " '貝 贔',\n",
       " '崖 崕',\n",
       " '街 垳',\n",
       " '垣 坦',\n",
       " '赫 赤',\n",
       " '楽 檪',\n",
       " '叶 古',\n",
       " '兜 皃',\n",
       " '姦 女',\n",
       " '患 忠',\n",
       " '閑 椚',\n",
       " '希 布',\n",
       " '机 凩',\n",
       " '貴 瞶',\n",
       " '亀 龜',\n",
       " '客 喀',\n",
       " '旧 曲',\n",
       " '牛 犇',\n",
       " '卿 即',\n",
       " '玉 主',\n",
       " '串 中',\n",
       " '屈 崛',\n",
       " '栗 栖',\n",
       " '卦 垰',\n",
       " '兄 呪',\n",
       " '圭 土',\n",
       " '畦 壘',\n",
       " '系 紗',\n",
       " '月 朋',\n",
       " '倹 儉',\n",
       " '幻 幺',\n",
       " '吾 唔',\n",
       " '向 咼',\n",
       " '恒 怛',\n",
       " '昂 昴',\n",
       " '皇 珀',\n",
       " '稿 稾',\n",
       " '轟 車',\n",
       " '克 兢',\n",
       " '困 梱',\n",
       " '艮 良',\n",
       " '叉 双',\n",
       " '差 瑳',\n",
       " '才 丞',\n",
       " '三 亞',\n",
       " '使 佑',\n",
       " '史 呂',\n",
       " '子 孑',\n",
       " '糸 絲',\n",
       " '侍 坿',\n",
       " '寺 封',\n",
       " '時 塒',\n",
       " '耳 聶',\n",
       " '蕊 芯',\n",
       " '者 暑',\n",
       " '尺 尽',\n",
       " '周 堝',\n",
       " '集 椎',\n",
       " '曙 署',\n",
       " '召 叨',\n",
       " '松 枩',\n",
       " '湘 渣',\n",
       " '省 眇']"
      ]
     },
     "execution_count": 20,
     "metadata": {},
     "output_type": "execute_result"
    }
   ],
   "source": [
    "# Are there Kanji that have the same radicals, but in different arrangements?\n",
    "# Looks like there's quite a few...\n",
    "by_radicals = collections.defaultdict(list)\n",
    "for kanji, radicals in krad_dict.items():\n",
    "    key = tuple(sorted(set(radicals)))\n",
    "    by_radicals[key].append(kanji)\n",
    "\n",
    "sorted([\" \".join(x) for x in by_radicals.values()], key=lambda item: len(item), reverse=True)[:100]"
   ]
  },
  {
   "cell_type": "code",
   "execution_count": 21,
   "metadata": {},
   "outputs": [],
   "source": [
    "G_heisig = construct_digraph(heisig)"
   ]
  },
  {
   "cell_type": "code",
   "execution_count": 22,
   "metadata": {},
   "outputs": [
    {
     "data": {
      "text/plain": [
       "False"
      ]
     },
     "execution_count": 22,
     "metadata": {},
     "output_type": "execute_result"
    }
   ],
   "source": [
    "G_heisig.has_edge('歩', '桜')"
   ]
  },
  {
   "cell_type": "code",
   "execution_count": 23,
   "metadata": {},
   "outputs": [
    {
     "data": {
      "text/plain": [
       "('少止', '渉歳頻')"
      ]
     },
     "execution_count": 23,
     "metadata": {},
     "output_type": "execute_result"
    }
   ],
   "source": [
    "def yield_ancestors(kanji):\n",
    "    for edge in G_heisig.in_edges([kanji]):\n",
    "        yield edge[0]\n",
    "        \n",
    "def is_ancestor_of_any(kanji, descendants):\n",
    "    for d in descendants:\n",
    "        if kanji != d and G_heisig.has_edge(kanji, d):\n",
    "            return True\n",
    "        \n",
    "def yield_parents(kanji):\n",
    "    \"\"\"Get the direct ancestors of a kanji.\"\"\"\n",
    "    ancestors = list(yield_ancestors(kanji))\n",
    "    for anc in ancestors:\n",
    "        if not is_ancestor_of_any(anc, ancestors):\n",
    "            yield anc\n",
    "            \n",
    "def is_child_of_any(kanji, ancestors):\n",
    "    for a in ancestors:\n",
    "        if a != kanji and G_heisig.has_edge(a, kanji):\n",
    "            return True\n",
    "    return False\n",
    "\n",
    "def yield_descendants(kanji):\n",
    "    for edge in G_heisig.out_edges([kanji]):\n",
    "        yield edge[1]\n",
    "        \n",
    "def yield_children(kanji):\n",
    "    \"\"\"Get the direct descendants of a kanji.\"\"\"\n",
    "    descendants = list(yield_descendants(kanji))\n",
    "    for desc in descendants:\n",
    "        if not is_child_of_any(desc, descendants):\n",
    "            yield desc\n",
    "        \n",
    "def to_str(x):\n",
    "    return ''.join(x)\n",
    "\n",
    "to_str(yield_parents('歩')), to_str(yield_children('歩'))"
   ]
  },
  {
   "cell_type": "code",
   "execution_count": 24,
   "metadata": {},
   "outputs": [
    {
     "data": {
      "text/plain": [
       "'正企足歩武祉肯卸渋紫歯歴雌誕'"
      ]
     },
     "execution_count": 24,
     "metadata": {},
     "output_type": "execute_result"
    }
   ],
   "source": [
    "to_str(yield_children('止'))"
   ]
  },
  {
   "cell_type": "code",
   "execution_count": 25,
   "metadata": {},
   "outputs": [
    {
     "data": {
      "text/plain": [
       "'赴徒起超越趣'"
      ]
     },
     "execution_count": 25,
     "metadata": {},
     "output_type": "execute_result"
    }
   ],
   "source": [
    "to_str(yield_children('走'))"
   ]
  },
  {
   "cell_type": "code",
   "execution_count": 26,
   "metadata": {},
   "outputs": [],
   "source": [
    "nx.write_yaml(G_heisig, 'graph.yml')"
   ]
  },
  {
   "cell_type": "code",
   "execution_count": 1,
   "metadata": {},
   "outputs": [
    {
     "ename": "NameError",
     "evalue": "name 'krad_dict' is not defined",
     "output_type": "error",
     "traceback": [
      "\u001b[0;31m---------------------------------------------------------------------------\u001b[0m",
      "\u001b[0;31mNameError\u001b[0m                                 Traceback (most recent call last)",
      "\u001b[0;32m<ipython-input-1-43224c6342ce>\u001b[0m in \u001b[0;36m<module>\u001b[0;34m()\u001b[0m\n\u001b[0;32m----> 1\u001b[0;31m \u001b[0mradicals\u001b[0m \u001b[0;34m=\u001b[0m \u001b[0mlist\u001b[0m\u001b[0;34m(\u001b[0m\u001b[0mkrad_dict\u001b[0m\u001b[0;34m)\u001b[0m\u001b[0;34m\u001b[0m\u001b[0m\n\u001b[0m\u001b[1;32m      2\u001b[0m \u001b[0mradicals\u001b[0m\u001b[0;34m\u001b[0m\u001b[0m\n",
      "\u001b[0;31mNameError\u001b[0m: name 'krad_dict' is not defined"
     ]
    }
   ],
   "source": []
  },
  {
   "cell_type": "code",
   "execution_count": null,
   "metadata": {},
   "outputs": [],
   "source": []
  }
 ],
 "metadata": {
  "kernelspec": {
   "display_name": "Python 3",
   "language": "python",
   "name": "python3"
  },
  "language_info": {
   "codemirror_mode": {
    "name": "ipython",
    "version": 3
   },
   "file_extension": ".py",
   "mimetype": "text/x-python",
   "name": "python",
   "nbconvert_exporter": "python",
   "pygments_lexer": "ipython3",
   "version": "3.6.5"
  }
 },
 "nbformat": 4,
 "nbformat_minor": 2
}
