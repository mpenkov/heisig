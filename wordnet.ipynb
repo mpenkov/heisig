{
 "cells": [
  {
   "cell_type": "code",
   "execution_count": 1,
   "metadata": {},
   "outputs": [
    {
     "name": "stdout",
     "output_type": "stream",
     "text": [
      "rain.n.01 water falling in drops from vapor condensed in the atmosphere\n",
      "rain.n.02 drops of fresh water that fall as precipitation from clouds\n",
      "rain.n.03 anything happening rapidly or in quick successive\n",
      "rain.v.01 precipitate as rain\n"
     ]
    }
   ],
   "source": [
    "from nltk.corpus import wordnet\n",
    "for syn in wordnet.synsets('rain'):\n",
    "    print(syn.name(), syn.definition())"
   ]
  },
  {
   "cell_type": "code",
   "execution_count": 3,
   "metadata": {},
   "outputs": [
    {
     "name": "stdout",
     "output_type": "stream",
     "text": [
      "0.1111111111111111 ; anything happening rapidly or in quick successive ; weather cold enough to cause freezing\n"
     ]
    }
   ],
   "source": [
    "import itertools\n",
    "\n",
    "SYN_CACHE = {}\n",
    "\n",
    "\n",
    "def word_similarity(word1, word2, function=max):\n",
    "    \"\"\"Calculate the maximum possible similarity between two words.\n",
    "    \n",
    "    Goes through the synsets of each word, and finds the pair that is most similar to each other.\n",
    "    \"\"\"\n",
    "    try:\n",
    "        synsets1 = SYN_CACHE[word1]\n",
    "    except KeyError:\n",
    "        synsets1 = SYN_CACHE[word1] = wordnet.synsets(word1)\n",
    "    try:\n",
    "        synsets2 = SYN_CACHE[word2]\n",
    "    except KeyError:\n",
    "        synsets2 = SYN_CACHE[word2] = wordnet.synsets(word2)\n",
    "    desired_similarity = None\n",
    "    name1 = name2 = None\n",
    "    for syn1, syn2 in itertools.product(synsets1, synsets2):\n",
    "        similarity = syn1.wup_similarity(syn2)\n",
    "        if desired_similarity is None:\n",
    "            keep = True\n",
    "        elif similarity is not None and function(similarity, desired_similarity) == similarity:\n",
    "            keep = True\n",
    "        else:\n",
    "            keep = False\n",
    "        \n",
    "        if keep:\n",
    "            desired_similarity = similarity\n",
    "            name1 = syn1.name()\n",
    "            name2 = syn2.name()\n",
    "    return 0 if desired_similarity is None else desired_similarity, name1, name2\n",
    "    \n",
    "sim, name1, name2 = word_similarity('rain', 'frost', function=min)\n",
    "print(sim, \";\", wordnet.synset(name1).definition(), \";\", wordnet.synset(name2).definition())"
   ]
  },
  {
   "cell_type": "code",
   "execution_count": 4,
   "metadata": {},
   "outputs": [
    {
     "name": "stdout",
     "output_type": "stream",
     "text": [
      "760 µs ± 58.6 µs per loop (mean ± std. dev. of 7 runs, 1000 loops each)\n"
     ]
    }
   ],
   "source": [
    "%timeit word_similarity('demolish', 'demolition')"
   ]
  },
  {
   "cell_type": "code",
   "execution_count": 7,
   "metadata": {},
   "outputs": [],
   "source": [
    "# The Heisig method assigns keywords to Kanji, and groups Kanji into lessons of increasing difficulty.\n",
    "import io\n",
    "import csv\n",
    "import gzip\n",
    "\n",
    "def tweak(kanji):\n",
    "    for key, value in kanji.items():\n",
    "        if value.isdigit():\n",
    "            kanji[key] = int(value)\n",
    "    return dict(kanji)\n",
    "\n",
    "with gzip.GzipFile('heisig-data.txt.gz') as fin:\n",
    "    fin.readline()\n",
    "    reader = csv.DictReader(io.StringIO(fin.read().decode('utf-8')), delimiter=':')\n",
    "    heisig = [tweak(x) for x in reader]"
   ]
  },
  {
   "cell_type": "code",
   "execution_count": 8,
   "metadata": {},
   "outputs": [
    {
     "data": {
      "text/plain": [
       "[('sword', 'blade', (1.0, 'sword.n.01', 'sword.n.01')),\n",
       " ('round', 'circle', (1.0, 'circle.n.08', 'circle.n.08')),\n",
       " ('villain', 'part', (0.96, 'villain.n.02', 'character.n.04')),\n",
       " ('round', 'part', (0.9411764705882353, 'turn.n.09', 'part.n.09')),\n",
       " ('beginning', 'part', (0.9411764705882353, 'beginning.n.03', 'part.n.09')),\n",
       " ('part', 'cut', (0.9230769230769231, 'share.n.01', 'cut.n.01')),\n",
       " ('seven', 'nine', (0.9090909090909091, 'seven-spot.n.01', 'nine-spot.n.01')),\n",
       " ('seven',\n",
       "  'eight',\n",
       "  (0.9090909090909091, 'seven-spot.n.01', 'eight-spot.n.01')),\n",
       " ('seven', 'ten', (0.9090909090909091, 'seven-spot.n.01', 'ten-spot.n.01')),\n",
       " ('seven', 'five', (0.9090909090909091, 'seven-spot.n.01', 'five-spot.n.03'))]"
      ]
     },
     "execution_count": 8,
     "metadata": {},
     "output_type": "execute_result"
    }
   ],
   "source": [
    "heisig_keywords = [h['keyword4th-ed'] for h in heisig[:100]]\n",
    "len(heisig_keywords)\n",
    "heisig_sim = [(kw1, kw2, word_similarity(kw1, kw2))\n",
    "              for (kw1, kw2) in itertools.combinations(heisig_keywords, 2)]\n",
    "sorted(heisig_sim, reverse=True, key=lambda x: x[2][0])[:10]"
   ]
  },
  {
   "cell_type": "code",
   "execution_count": 9,
   "metadata": {},
   "outputs": [
    {
     "data": {
      "text/plain": [
       "[('sword', 'blade', (1.0, 'sword.n.01', 'sword.n.01')),\n",
       " ('round', 'circle', (1.0, 'circle.n.08', 'circle.n.08')),\n",
       " ('villain', 'part', (0.96, 'villain.n.02', 'character.n.04')),\n",
       " ('round', 'part', (0.9411764705882353, 'turn.n.09', 'part.n.09')),\n",
       " ('beginning', 'part', (0.9411764705882353, 'beginning.n.03', 'part.n.09')),\n",
       " ('part', 'cut', (0.9230769230769231, 'share.n.01', 'cut.n.01')),\n",
       " ('seven', 'nine', (0.9090909090909091, 'seven-spot.n.01', 'nine-spot.n.01')),\n",
       " ('seven',\n",
       "  'eight',\n",
       "  (0.9090909090909091, 'seven-spot.n.01', 'eight-spot.n.01')),\n",
       " ('seven', 'ten', (0.9090909090909091, 'seven-spot.n.01', 'ten-spot.n.01')),\n",
       " ('seven', 'five', (0.9090909090909091, 'seven-spot.n.01', 'five-spot.n.03')),\n",
       " ('seven', 'six', (0.9090909090909091, 'seven-spot.n.01', 'six-spot.n.01')),\n",
       " ('nine', 'eight', (0.9090909090909091, 'nine-spot.n.01', 'eight-spot.n.01')),\n",
       " ('nine', 'ten', (0.9090909090909091, 'nine-spot.n.01', 'ten-spot.n.01')),\n",
       " ('nine', 'five', (0.9090909090909091, 'nine-spot.n.01', 'five-spot.n.03')),\n",
       " ('nine', 'six', (0.9090909090909091, 'nine-spot.n.01', 'six-spot.n.01')),\n",
       " ('eight', 'ten', (0.9090909090909091, 'eight-spot.n.01', 'ten-spot.n.01')),\n",
       " ('eight', 'five', (0.9090909090909091, 'eight-spot.n.01', 'five-spot.n.03')),\n",
       " ('eight', 'six', (0.9090909090909091, 'eight-spot.n.01', 'six-spot.n.01')),\n",
       " ('power', 'ward', (0.9090909090909091, 'baron.n.03', 'ward.n.06')),\n",
       " ('power', 'hand', (0.9090909090909091, 'ability.n.02', 'hand.n.04')),\n",
       " ('ten', 'five', (0.9090909090909091, 'ten-spot.n.01', 'five-spot.n.03')),\n",
       " ('ten', 'six', (0.9090909090909091, 'ten-spot.n.01', 'six-spot.n.01')),\n",
       " ('stream', 'branch', (0.9090909090909091, 'stream.n.01', 'branch.n.05')),\n",
       " ('five', 'six', (0.9090909090909091, 'five-spot.n.03', 'six-spot.n.01')),\n",
       " ('inside', 'part', (0.9090909090909091, 'inside.n.01', 'region.n.01')),\n",
       " ('part', 'heavens', (0.9090909090909091, 'region.n.01', 'eden.n.01')),\n",
       " ('two', 'three', (0.9, 'deuce.n.04', 'trey.n.02')),\n",
       " ('two', 'heart', (0.9, 'deuce.n.04', 'heart.n.10')),\n",
       " ('sword', 'bow', (0.9, 'sword.n.01', 'bow.n.04')),\n",
       " ('three', 'heart', (0.9, 'trey.n.02', 'heart.n.10')),\n",
       " ('round', 'blade', (0.9, 'circle.n.08', 'blade.n.08')),\n",
       " ('blade', 'bow', (0.9, 'sword.n.01', 'bow.n.04')),\n",
       " ('blade', 'circle', (0.9, 'blade.n.08', 'circle.n.08')),\n",
       " ('round', 'beginning', (0.8888888888888888, 'turn.n.09', 'beginning.n.03')),\n",
       " ('ladle', 'well', (0.8888888888888888, 'ladle.n.01', 'well.n.02')),\n",
       " ('mouth', 'beginning', (0.8888888888888888, 'talk.v.02', 'begin.v.04')),\n",
       " ('inside',\n",
       "  'heavens',\n",
       "  (0.8888888888888888, 'inside.n.02', 'celestial_sphere.n.01')),\n",
       " ('woman', 'hand', (0.88, 'charwoman.n.01', 'hired_hand.n.01')),\n",
       " ('one', 'seven', (0.875, 'one.n.01', 'seven.n.01')),\n",
       " ('one', 'nine', (0.875, 'one.n.01', 'nine.n.01')),\n",
       " ('one', 'two', (0.875, 'one.n.01', 'two.n.01')),\n",
       " ('one', 'eight', (0.875, 'one.n.01', 'eight.n.01')),\n",
       " ('one', 'three', (0.875, 'one.n.01', 'three.n.01')),\n",
       " ('one', 'five', (0.875, 'one.n.01', 'five.n.01')),\n",
       " ('one', 'six', (0.875, 'one.n.01', 'six.n.01')),\n",
       " ('seven', 'two', (0.875, 'seven.n.01', 'two.n.01')),\n",
       " ('seven', 'three', (0.875, 'seven.n.01', 'three.n.01')),\n",
       " ('nine', 'two', (0.875, 'nine.n.01', 'two.n.01')),\n",
       " ('nine', 'three', (0.875, 'nine.n.01', 'three.n.01')),\n",
       " ('two', 'eight', (0.875, 'two.n.01', 'eight.n.01')),\n",
       " ('two', 'five', (0.875, 'two.n.01', 'five.n.01')),\n",
       " ('two', 'six', (0.875, 'two.n.01', 'six.n.01')),\n",
       " ('eight', 'three', (0.875, 'eight.n.01', 'three.n.01')),\n",
       " ('ten', 'thousand', (0.875, 'ten.n.01', 'thousand.n.01')),\n",
       " ('ten', 'twenty', (0.875, 'ten.n.01', 'twenty.n.01')),\n",
       " ('three', 'five', (0.875, 'three.n.01', 'five.n.01')),\n",
       " ('three', 'six', (0.875, 'three.n.01', 'six.n.01')),\n",
       " ('round', 'cut', (0.875, 'round.n.10', 'cut.n.06')),\n",
       " ('blade', 'cut', (0.875, 'blade.n.05', 'cut.n.06')),\n",
       " ('thousand', 'twenty', (0.875, 'thousand.n.01', 'twenty.n.01')),\n",
       " ('stream', 'change', (0.875, 'flow.n.03', 'change.n.03')),\n",
       " ('beginning', 'change', (0.875, 'beginning.n.05', 'change.n.03')),\n",
       " ('seven', 'heart', (0.8571428571428571, 'seven-spot.n.01', 'heart.n.10')),\n",
       " ('nine', 'heart', (0.8571428571428571, 'nine-spot.n.01', 'heart.n.10')),\n",
       " ('two', 'ten', (0.8571428571428571, 'deuce.n.04', 'ten-spot.n.01')),\n",
       " ('eight', 'heart', (0.8571428571428571, 'eight-spot.n.01', 'heart.n.10')),\n",
       " ('ten', 'three', (0.8571428571428571, 'ten-spot.n.01', 'trey.n.02')),\n",
       " ('ten', 'heart', (0.8571428571428571, 'ten-spot.n.01', 'heart.n.10')),\n",
       " ('round', 'hand', (0.8571428571428571, 'round.n.12', 'hand.n.12')),\n",
       " ('round', 'direction', (0.8571428571428571, 'beat.n.01', 'direction.n.01')),\n",
       " ('blade', 'cavity', (0.8571428571428571, 'blade.n.06', 'cavity.n.04')),\n",
       " ('five', 'heart', (0.8571428571428571, 'five-spot.n.03', 'heart.n.10')),\n",
       " ('six', 'heart', (0.8571428571428571, 'six-spot.n.01', 'heart.n.10')),\n",
       " ('cut', 'pull', (0.8571428571428571, 'cut.n.05', 'wrench.n.01')),\n",
       " ('stream', 'circle', (0.8421052631578947, 'flow.n.03', 'lap.n.05')),\n",
       " ('well', 'door', (0.8421052631578947, 'well.n.05', 'door.n.05')),\n",
       " ('power', 'craft', (0.8333333333333334, 'ability.n.02', 'craft.n.04')),\n",
       " ('power', 'genius', (0.8333333333333334, 'ability.n.02', 'genius.n.04')),\n",
       " ('woman', 'craft', (0.8333333333333334, 'womanhood.n.02', 'craft.n.03')),\n",
       " ('part', 'hand', (0.8333333333333334, 'region.n.01', 'hand.n.05')),\n",
       " ('change', 'branch', (0.8333333333333334, 'change.n.04', 'outgrowth.n.01')),\n",
       " ('spoon', 'ladle', (0.8235294117647058, 'spoon.n.01', 'ladle.n.01')),\n",
       " ('spoon', 'well', (0.8235294117647058, 'spoon.n.01', 'well.n.02')),\n",
       " ('blade', 'pull', (0.8235294117647058, 'blade.n.07', 'pull.n.04')),\n",
       " ('bow', 'change', (0.8235294117647058, 'bow.n.09', 'change.n.03')),\n",
       " ('cut', 'change', (0.8235294117647058, 'cut.n.19', 'change.n.03')),\n",
       " ('change', 'circle', (0.8235294117647058, 'change.n.03', 'lap.n.05')),\n",
       " ('blade', 'ax', (0.8181818181818182, 'blade.n.09', 'ax.n.01')),\n",
       " ('person', 'deceased', (0.8, 'person.n.01', 'dead_person.n.01')),\n",
       " ('person', 'child', (0.8, 'person.n.01', 'child.n.03')),\n",
       " ('person', 'self', (0.8, 'person.n.01', 'self.n.02')),\n",
       " ('person', 'equal', (0.8, 'person.n.01', 'peer.n.01')),\n",
       " ('person', 'ward', (0.8, 'person.n.01', 'ward.n.01')),\n",
       " ('person', 'friend', (0.8, 'person.n.01', 'acquaintance.n.03')),\n",
       " ('enter', 'cut', (0.8, 'record.v.01', 'cut.v.20')),\n",
       " ('power', 'humanity', (0.8, 'power.n.01', 'humanness.n.01')),\n",
       " ('power', 'pull', (0.8, 'power.n.02', 'pull.n.02')),\n",
       " ('length', 'part', (0.8, 'length.n.05', 'part.n.02')),\n",
       " ('measurement', 'craft', (0.8, 'measurement.n.01', 'trade.n.02')),\n",
       " ('measurement', 'part', (0.8, 'measurement.n.01', 'contribution.n.01'))]"
      ]
     },
     "execution_count": 9,
     "metadata": {},
     "output_type": "execute_result"
    }
   ],
   "source": [
    "sorted(heisig_sim, reverse=True, key=lambda x: x[2][0])[:100]"
   ]
  },
  {
   "cell_type": "code",
   "execution_count": null,
   "metadata": {},
   "outputs": [],
   "source": []
  }
 ],
 "metadata": {
  "kernelspec": {
   "display_name": "Python 3",
   "language": "python",
   "name": "python3"
  },
  "language_info": {
   "codemirror_mode": {
    "name": "ipython",
    "version": 3
   },
   "file_extension": ".py",
   "mimetype": "text/x-python",
   "name": "python",
   "nbconvert_exporter": "python",
   "pygments_lexer": "ipython3",
   "version": "3.6.3"
  }
 },
 "nbformat": 4,
 "nbformat_minor": 2
}
